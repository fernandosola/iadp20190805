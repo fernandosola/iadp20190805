{
 "cells": [
  {
   "cell_type": "markdown",
   "metadata": {
    "slideshow": {
     "slide_type": "slide"
    }
   },
   "source": [
    "# Pandas - Series"
   ]
  },
  {
   "cell_type": "markdown",
   "metadata": {
    "slideshow": {
     "slide_type": "slide"
    }
   },
   "source": [
    "## O que é o Pandas?\n",
    "\n",
    "Pandas é uma biblioteca, feita na liguagem Python, que fornece estruturas de dados de alto nível e ferramentas de análise de dados projetadas para tornar o trabalho com dados tabulares ou estruturados mais produtivo e fácil."
   ]
  },
  {
   "cell_type": "markdown",
   "metadata": {
    "slideshow": {
     "slide_type": "slide"
    }
   },
   "source": [
    "## Estruturas de Dados\n",
    "\n",
    "\n",
    "### Series\n",
    "\n",
    "Uma série é um objeto que armazena uma lista de valores e índices associados a eles.\n",
    "\n",
    "Esse objeto pode ser comparado a uma coluna do excel ou uma coluna de uma tabela de banco de dados.\n",
    "\n",
    "![Serie](imagens/excel_series.png)"
   ]
  },
  {
   "cell_type": "code",
   "execution_count": 1,
   "metadata": {
    "slideshow": {
     "slide_type": "skip"
    }
   },
   "outputs": [],
   "source": [
    "# por convenção utiliza-se o alias np ao importar a biblioteca\n",
    "import numpy as np\n",
    "\n",
    "# por convenção utiliza-se o alias pd ao importar a biblioteca\n",
    "import pandas as pd\n",
    "\n",
    "#\n",
    "import matplotlib.pyplot as plt\n",
    "\n",
    "# outros imports que serão úteis\n",
    "import os\n",
    "import re\n",
    "from collections import OrderedDict\n",
    "\n",
    "%matplotlib inline"
   ]
  },
  {
   "cell_type": "code",
   "execution_count": 3,
   "metadata": {
    "slideshow": {
     "slide_type": "slide"
    }
   },
   "outputs": [
    {
     "name": "stdout",
     "output_type": "stream",
     "text": [
      "<class 'pandas.core.series.Series'>\n"
     ]
    },
    {
     "data": {
      "text/plain": [
       "0       Mamão\n",
       "1       Melão\n",
       "2    Melancia\n",
       "dtype: object"
      ]
     },
     "execution_count": 3,
     "metadata": {},
     "output_type": "execute_result"
    }
   ],
   "source": [
    "# Criação simples de uma série\n",
    "s1 = pd.Series(['Mamão', 'Melão', 'Melancia'])\n",
    "\n",
    "print(type(s1))\n",
    "\n",
    "s1"
   ]
  },
  {
   "cell_type": "code",
   "execution_count": 4,
   "metadata": {
    "slideshow": {
     "slide_type": "-"
    }
   },
   "outputs": [
    {
     "data": {
      "text/plain": [
       "0       Cão\n",
       "1      Gato\n",
       "2    Cavalo\n",
       "Name: Animais, dtype: object"
      ]
     },
     "execution_count": 4,
     "metadata": {},
     "output_type": "execute_result"
    }
   ],
   "source": [
    "# Criação de uma série com o nome associado (nome da coluna no excel)\n",
    "s2 = pd.Series(['Cão', 'Gato', 'Cavalo'], name='Animais')\n",
    "s2"
   ]
  },
  {
   "cell_type": "code",
   "execution_count": null,
   "metadata": {},
   "outputs": [],
   "source": []
  },
  {
   "cell_type": "code",
   "execution_count": 6,
   "metadata": {
    "slideshow": {
     "slide_type": "slide"
    }
   },
   "outputs": [
    {
     "data": {
      "text/plain": [
       "2018-02-01    27.0\n",
       "2018-02-02    28.3\n",
       "2018-02-03    29.1\n",
       "Name: Temperatura, dtype: float64"
      ]
     },
     "execution_count": 6,
     "metadata": {},
     "output_type": "execute_result"
    }
   ],
   "source": [
    "# Criação de uma série com nome e índice\n",
    "s3 = pd.Series(\n",
    "    [27, 28.3, 29.1], \n",
    "    name='Temperatura',\n",
    "    index=['2018-02-01', '2018-02-02', '2018-02-03']\n",
    ")\n",
    "s3"
   ]
  },
  {
   "cell_type": "code",
   "execution_count": 7,
   "metadata": {
    "scrolled": true,
    "slideshow": {
     "slide_type": "slide"
    }
   },
   "outputs": [
    {
     "data": {
      "text/plain": [
       "2018-02-01    27.0\n",
       "2018-02-02    28.3\n",
       "2018-02-03    29.1\n",
       "Name: Temperatura, dtype: float64"
      ]
     },
     "execution_count": 7,
     "metadata": {},
     "output_type": "execute_result"
    }
   ],
   "source": [
    "# Criação de uma série à partir de um dicionário\n",
    "s4 = pd.Series(\n",
    "    {\n",
    "        '2018-02-01': 27, \n",
    "        '2018-02-02': 28.3, \n",
    "        '2018-02-03': 29.1,\n",
    "    },\n",
    "    name='Temperatura',\n",
    ")\n",
    "s4"
   ]
  },
  {
   "cell_type": "markdown",
   "metadata": {
    "slideshow": {
     "slide_type": "slide"
    }
   },
   "source": [
    "## Características, métodos e operações"
   ]
  },
  {
   "cell_type": "markdown",
   "metadata": {
    "slideshow": {
     "slide_type": "slide"
    }
   },
   "source": [
    "* alguns atributos importantes"
   ]
  },
  {
   "cell_type": "code",
   "execution_count": 8,
   "metadata": {
    "slideshow": {
     "slide_type": "-"
    }
   },
   "outputs": [
    {
     "name": "stdout",
     "output_type": "stream",
     "text": [
      "Valores: [27.  28.3 29.1] \n",
      "Tipo: <class 'numpy.ndarray'>\n",
      "\n",
      "Índices: Index(['2018-02-01', '2018-02-02', '2018-02-03'], dtype='object') \n",
      "Tipo: <class 'pandas.core.indexes.base.Index'>\n",
      "\n",
      "Nome: Temperatura \n",
      "Tipo: <class 'str'>\n",
      "\n",
      "Shape: (3,) \n",
      "Tipo: <class 'tuple'>\n"
     ]
    }
   ],
   "source": [
    "print('Valores:', s4.values, '\\nTipo:', type(s4.values))\n",
    "print('\\nÍndices:', s4.index, '\\nTipo:', type(s4.index))\n",
    "print('\\nNome:', s4.name, '\\nTipo:', type(s4.name))\n",
    "print('\\nShape:', s4.shape, '\\nTipo:', type(s4.shape))"
   ]
  },
  {
   "cell_type": "markdown",
   "metadata": {
    "slideshow": {
     "slide_type": "slide"
    }
   },
   "source": [
    "* as séries possuem características de tipos sequencias, ou seja, podem ser fatiadas, acessadas ou modificadas pela ordem numérica. Além disso, é um objeto compatível com ndarray do NumPy, dessa forma aceita expressões e pode ser utilizado como parâmetro para a maioria das funções disponíveis no NumPy"
   ]
  },
  {
   "cell_type": "code",
   "execution_count": 14,
   "metadata": {
    "scrolled": true,
    "slideshow": {
     "slide_type": "-"
    }
   },
   "outputs": [
    {
     "name": "stdout",
     "output_type": "stream",
     "text": [
      "27.0\n",
      "\n",
      "2018-02-01    27.0\n",
      "2018-02-02    28.3\n",
      "Name: Temperatura, dtype: float64\n",
      "\n",
      "30.1\n",
      "\n",
      "2018-02-02    28.3\n",
      "2018-02-03    30.1\n",
      "Name: Temperatura, dtype: float64\n"
     ]
    }
   ],
   "source": [
    "# índice de ordem\n",
    "print(s4[0])\n",
    "\n",
    "# sintaxe de slices\n",
    "print('\\n', s4[:2], sep='')\n",
    "\n",
    "# alteração de um valor\n",
    "s4[2] = 30.1\n",
    "print('\\n', s4[2], sep='')\n",
    "\n",
    "# expressões para slices\n",
    "print('\\n', s4[ s4 >= 28 ], sep='')"
   ]
  },
  {
   "cell_type": "code",
   "execution_count": 16,
   "metadata": {
    "slideshow": {
     "slide_type": "slide"
    }
   },
   "outputs": [
    {
     "data": {
      "text/plain": [
       "2018-02-01    False\n",
       "2018-02-02     True\n",
       "2018-02-03     True\n",
       "Name: Temperatura, dtype: bool"
      ]
     },
     "execution_count": 16,
     "metadata": {},
     "output_type": "execute_result"
    }
   ],
   "source": [
    "# s4[ s4 >= 28 ]\n",
    "\n",
    "s4 >= 28"
   ]
  },
  {
   "cell_type": "code",
   "execution_count": 18,
   "metadata": {
    "slideshow": {
     "slide_type": "-"
    }
   },
   "outputs": [
    {
     "name": "stdout",
     "output_type": "stream",
     "text": [
      "2018-02-01    False\n",
      "2018-02-02     True\n",
      "2018-02-03     True\n",
      "Name: Temperatura, dtype: bool\n",
      "2018-02-01     True\n",
      "2018-02-02     True\n",
      "2018-02-03    False\n",
      "Name: Temperatura, dtype: bool\n"
     ]
    },
    {
     "data": {
      "text/plain": [
       "2018-02-02    28.3\n",
       "Name: Temperatura, dtype: float64"
      ]
     },
     "execution_count": 18,
     "metadata": {},
     "output_type": "execute_result"
    }
   ],
   "source": [
    "filtro1 = s4 >= 28\n",
    "filtro2 = s4 < 30\n",
    "\n",
    "print(filtro1)\n",
    "print(filtro2)\n",
    "\n",
    "s4[ filtro1 & filtro2 ]"
   ]
  },
  {
   "cell_type": "code",
   "execution_count": 29,
   "metadata": {},
   "outputs": [
    {
     "data": {
      "text/plain": [
       "27.0"
      ]
     },
     "execution_count": 29,
     "metadata": {},
     "output_type": "execute_result"
    }
   ],
   "source": [
    "# s4.loc['2018-02-02':'2018-02-03']\n",
    "# s4.loc[0]\n",
    "#type(s4.iloc[0])\n",
    "s4.iloc[0]"
   ]
  },
  {
   "cell_type": "code",
   "execution_count": 30,
   "metadata": {},
   "outputs": [
    {
     "data": {
      "text/plain": [
       "0"
      ]
     },
     "execution_count": 30,
     "metadata": {},
     "output_type": "execute_result"
    }
   ],
   "source": [
    "0"
   ]
  },
  {
   "cell_type": "code",
   "execution_count": 33,
   "metadata": {},
   "outputs": [
    {
     "data": {
      "text/plain": [
       "2018-02-01    27.0\n",
       "2018-02-02    28.3\n",
       "Name: Temperatura, dtype: float64"
      ]
     },
     "execution_count": 33,
     "metadata": {},
     "output_type": "execute_result"
    }
   ],
   "source": [
    "s4.iloc[0:2]"
   ]
  },
  {
   "cell_type": "code",
   "execution_count": 32,
   "metadata": {},
   "outputs": [
    {
     "data": {
      "text/plain": [
       "[0]"
      ]
     },
     "execution_count": 32,
     "metadata": {},
     "output_type": "execute_result"
    }
   ],
   "source": [
    "[0]"
   ]
  },
  {
   "cell_type": "markdown",
   "metadata": {
    "slideshow": {
     "slide_type": "slide"
    }
   },
   "source": [
    "# Exercício 01\n",
    "\n",
    "Para os exercícios a sequir, considere a Serie atribuída à variável s_temperaturas.\n",
    "\n",
    "1. Filtre e exiba somente os dias que possuem temperaturas acima de 20(ºC)\n",
    "2. Imprima a quantidade de registros que foram filtrados no item anterior\n",
    "3. Utilize as funções head, tail e sample da série para explorar os regitros"
   ]
  },
  {
   "cell_type": "code",
   "execution_count": 34,
   "metadata": {
    "slideshow": {
     "slide_type": "-"
    }
   },
   "outputs": [],
   "source": [
    "np.random.seed(42)\n",
    "\n",
    "v_temperaturas = np.random.randint(-1, high=40, size=50)\n",
    "i_temperaturas = pd.date_range('2018-01-01', periods=50, freq='D')\n",
    "s_temperaturas = pd.Series(v_temperaturas, index=i_temperaturas, name='Temperatura (ºC)')"
   ]
  },
  {
   "cell_type": "code",
   "execution_count": 36,
   "metadata": {
    "scrolled": false,
    "slideshow": {
     "slide_type": "slide"
    }
   },
   "outputs": [
    {
     "data": {
      "text/plain": [
       "2018-01-01    37\n",
       "2018-01-02    27\n",
       "2018-01-06    37\n",
       "2018-01-08    21\n",
       "2018-01-11    22\n",
       "2018-01-12    34\n",
       "2018-01-13    38\n",
       "2018-01-14    22\n",
       "2018-01-18    22\n",
       "2018-01-19    28\n",
       "2018-01-20    36\n",
       "2018-01-23    31\n",
       "2018-01-26    23\n",
       "2018-01-27    25\n",
       "2018-01-28    26\n",
       "2018-02-01    35\n",
       "2018-02-05    37\n",
       "2018-02-08    23\n",
       "2018-02-11    24\n",
       "2018-02-14    26\n",
       "2018-02-17    33\n",
       "Name: Temperatura (ºC), dtype: int32"
      ]
     },
     "execution_count": 36,
     "metadata": {},
     "output_type": "execute_result"
    }
   ],
   "source": [
    "s_temperaturas[ s_temperaturas > 20]"
   ]
  },
  {
   "cell_type": "code",
   "execution_count": 38,
   "metadata": {},
   "outputs": [
    {
     "data": {
      "text/plain": [
       "21"
      ]
     },
     "execution_count": 38,
     "metadata": {},
     "output_type": "execute_result"
    }
   ],
   "source": [
    "s_temperaturas[s_temperaturas > 20].shape[0]"
   ]
  },
  {
   "cell_type": "code",
   "execution_count": 52,
   "metadata": {},
   "outputs": [
    {
     "data": {
      "text/plain": [
       "2018-02-07     2\n",
       "2018-02-12     0\n",
       "2018-01-10     9\n",
       "2018-01-24    10\n",
       "2018-01-14    22\n",
       "Name: Temperatura (ºC), dtype: int32"
      ]
     },
     "execution_count": 52,
     "metadata": {},
     "output_type": "execute_result"
    }
   ],
   "source": [
    "s_temperaturas.sample(5)"
   ]
  },
  {
   "cell_type": "markdown",
   "metadata": {
    "slideshow": {
     "slide_type": "slide"
    }
   },
   "source": [
    "* o índice da série pode ser alterado e a série pode ser reordenada pelo índice"
   ]
  },
  {
   "cell_type": "code",
   "execution_count": 53,
   "metadata": {
    "scrolled": true,
    "slideshow": {
     "slide_type": "-"
    }
   },
   "outputs": [
    {
     "name": "stdout",
     "output_type": "stream",
     "text": [
      "2018-02-01    27.0\n",
      "2018-02-02    28.3\n",
      "2018-02-03    30.1\n",
      "Name: Temperatura, dtype: float64 \n",
      "\n",
      "2018-02-01    27.0\n",
      "2018-02-02    28.3\n",
      "2018-02-03    30.1\n",
      "Name: Temperatura, dtype: object \n",
      "\n",
      "b    27.0\n",
      "c    28.3\n",
      "a    30.1\n",
      "Name: Temperatura, dtype: object \n",
      "\n",
      "a    30.1\n",
      "b    27.0\n",
      "c    28.3\n",
      "Name: Temperatura, dtype: object \n",
      "\n"
     ]
    }
   ],
   "source": [
    "print(s4, '\\n')\n",
    "\n",
    "# alterando o tipo \n",
    "s4_str = s4.astype(str)\n",
    "print(s4_str, '\\n')\n",
    "\n",
    "# redefinindo o índice\n",
    "s4_str.index = pd.Index(['b', 'c', 'a'])\n",
    "print(s4_str, '\\n')\n",
    "\n",
    "s4_str = s4_str.sort_index()\n",
    "print(s4_str, '\\n')"
   ]
  },
  {
   "cell_type": "markdown",
   "metadata": {
    "slideshow": {
     "slide_type": "slide"
    }
   },
   "source": [
    "* as séries podem se comportar como um dicionário, onde os valores podem ser recuperados e alterados pelo seu índice"
   ]
  },
  {
   "cell_type": "code",
   "execution_count": 54,
   "metadata": {
    "slideshow": {
     "slide_type": "-"
    }
   },
   "outputs": [
    {
     "name": "stdout",
     "output_type": "stream",
     "text": [
      "2018-02-01    27.0\n",
      "2018-02-02    28.3\n",
      "2018-02-03    30.1\n",
      "Name: Temperatura, dtype: float64 \n",
      "\n",
      "28.3 \n",
      "\n",
      "KeyError: '2018-02-10' \n",
      "\n",
      "None \n",
      "\n",
      "True\n"
     ]
    }
   ],
   "source": [
    "print(s4, '\\n')\n",
    "\n",
    "# retornar valor utilizando colchetes e o índice desejado\n",
    "print(s4['2018-02-02'], '\\n') \n",
    "\n",
    "# se utilizarmos colchetes para uma chave não existente teremos um erro\n",
    "try:\n",
    "    print(s4['2018-02-10'])\n",
    "except Exception as e:\n",
    "    print('{}:'.format(e.__class__.__name__), e, '\\n')\n",
    "\n",
    "# utilizar o método get apenas retorna None se o índice não existir\n",
    "print(s4.get('2018-02-10'), '\\n')\n",
    "\n",
    "# é possível testar se um índice está na série\n",
    "print('2018-02-02' in s4)"
   ]
  },
  {
   "cell_type": "markdown",
   "metadata": {
    "slideshow": {
     "slide_type": "slide"
    }
   },
   "source": [
    "* as séries aceitam operações vetorizadas, mas o alinhamento para as operações é sempre baseado no índice"
   ]
  },
  {
   "cell_type": "code",
   "execution_count": 55,
   "metadata": {
    "slideshow": {
     "slide_type": "-"
    }
   },
   "outputs": [
    {
     "name": "stdout",
     "output_type": "stream",
     "text": [
      "\n",
      "2018-02-01    27.0\n",
      "2018-02-02    28.3\n",
      "2018-02-03    29.1\n",
      "Name: Temperatura Sensor A, dtype: float64\n"
     ]
    }
   ],
   "source": [
    "# medições de temperatura\n",
    "s5 = pd.Series(\n",
    "    [27, 28.3, 29.1], \n",
    "    name='Temperatura Sensor A',\n",
    "    index=['2018-02-01', '2018-02-02', '2018-02-03'])\n",
    "print('\\n', s5, sep='')"
   ]
  },
  {
   "cell_type": "code",
   "execution_count": 56,
   "metadata": {
    "slideshow": {
     "slide_type": "-"
    }
   },
   "outputs": [
    {
     "name": "stdout",
     "output_type": "stream",
     "text": [
      "\n",
      "2018-02-02    28.6\n",
      "2018-02-03    32.1\n",
      "2018-02-04    26.0\n",
      "Name: Temperatura Sensor B, dtype: float64\n"
     ]
    }
   ],
   "source": [
    "s6 = pd.Series(\n",
    "    [28.6, 32.1, 26], \n",
    "    name='Temperatura Sensor B',\n",
    "    index=['2018-02-02', '2018-02-03', '2018-02-04'])\n",
    "print('\\n', s6, sep='')"
   ]
  },
  {
   "cell_type": "code",
   "execution_count": 60,
   "metadata": {
    "slideshow": {
     "slide_type": "-"
    }
   },
   "outputs": [
    {
     "name": "stdout",
     "output_type": "stream",
     "text": [
      "\n",
      "2018-02-01      NaN\n",
      "2018-02-02    28.45\n",
      "2018-02-03    30.60\n",
      "2018-02-04      NaN\n",
      "Name: Temperatura Média, dtype: float64\n"
     ]
    }
   ],
   "source": [
    "s7 = (s5 + s6)/2\n",
    "s7.rename('Temperatura Média', inplace=True)\n",
    "print('\\n', s7, sep='')"
   ]
  },
  {
   "cell_type": "markdown",
   "metadata": {
    "slideshow": {
     "slide_type": "slide"
    }
   },
   "source": [
    "* alguns métodos comuns nas séries "
   ]
  },
  {
   "cell_type": "code",
   "execution_count": 61,
   "metadata": {
    "scrolled": true,
    "slideshow": {
     "slide_type": "-"
    }
   },
   "outputs": [
    {
     "name": "stdout",
     "output_type": "stream",
     "text": [
      "min:  13\n",
      "max:  36\n",
      "mean:  24.866666666666667\n",
      "median:  25.0\n",
      "std:  7.717018916160628\n"
     ]
    }
   ],
   "source": [
    "temperaturas = [17, 18, 24, 27, 18, 25, 27, 35, 35, 18, 17, 13, 36, 32, 31]\n",
    "s8 = pd.Series(temperaturas)\n",
    "# menor valor\n",
    "print('min: ', s8.min())\n",
    "\n",
    "# maior valor\n",
    "print('max: ', s8.max())\n",
    "\n",
    "# média\n",
    "print('mean: ', s8.mean())\n",
    "\n",
    "# mediana\n",
    "print('median: ', s8.median())\n",
    "\n",
    "# desvio padrão\n",
    "print('std: ', s8.std())"
   ]
  },
  {
   "cell_type": "markdown",
   "metadata": {
    "slideshow": {
     "slide_type": "slide"
    }
   },
   "source": [
    "* sumarização e estatística descritiva"
   ]
  },
  {
   "cell_type": "code",
   "execution_count": 17,
   "metadata": {
    "slideshow": {
     "slide_type": "-"
    }
   },
   "outputs": [
    {
     "data": {
      "text/plain": [
       "count    15.000000\n",
       "mean     24.866667\n",
       "std       7.717019\n",
       "min      13.000000\n",
       "25%      18.000000\n",
       "50%      25.000000\n",
       "75%      31.500000\n",
       "max      36.000000\n",
       "dtype: float64"
      ]
     },
     "execution_count": 17,
     "metadata": {},
     "output_type": "execute_result"
    }
   ],
   "source": [
    "s8.describe()"
   ]
  },
  {
   "cell_type": "markdown",
   "metadata": {
    "slideshow": {
     "slide_type": "slide"
    }
   },
   "source": [
    "* histograma dos dados com um simples comando (vamos ver mais plots em detalhes mais em outro capítulo)"
   ]
  },
  {
   "cell_type": "code",
   "execution_count": 62,
   "metadata": {
    "slideshow": {
     "slide_type": "-"
    }
   },
   "outputs": [
    {
     "data": {
      "text/plain": [
       "<matplotlib.axes._subplots.AxesSubplot at 0x230dbafef60>"
      ]
     },
     "execution_count": 62,
     "metadata": {},
     "output_type": "execute_result"
    },
    {
     "data": {
      "image/png": "[encoded data removed]",
      "text/plain": [
       "<Figure size 432x288 with 1 Axes>"
      ]
     },
     "metadata": {
      "needs_background": "light"
     },
     "output_type": "display_data"
    }
   ],
   "source": [
    "s8.hist(bins=20)"
   ]
  },
  {
   "cell_type": "markdown",
   "metadata": {
    "slideshow": {
     "slide_type": "slide"
    }
   },
   "source": [
    "* Series possuem muitos métodos auxiliares para uso em colunas do tipo string"
   ]
  },
  {
   "cell_type": "code",
   "execution_count": 66,
   "metadata": {
    "scrolled": true,
    "slideshow": {
     "slide_type": "slide"
    }
   },
   "outputs": [
    {
     "name": "stdout",
     "output_type": "stream",
     "text": [
      "0                   1 - Aceguá\n",
      "1               2 - Acrelândia\n",
      "2                  3 - Alecrim\n",
      "3                 4 - Almeirim\n",
      "4    5 - Alta Floresta d'Oeste\n",
      "Name: Município, dtype: object\n"
     ]
    },
    {
     "data": {
      "text/plain": [
       "0                   Aceguá\n",
       "1               Acrelândia\n",
       "2                  Alecrim\n",
       "3                 Almeirim\n",
       "4    Alta Floresta d'Oeste\n",
       "Name: Município, dtype: object"
      ]
     },
     "execution_count": 66,
     "metadata": {},
     "output_type": "execute_result"
    }
   ],
   "source": [
    "ss9 = pd.Series(['1 - Aceguá',\n",
    " '2 - Acrelândia',\n",
    " '3 - Alecrim',\n",
    " '4 - Almeirim',\n",
    " '5 - Alta Floresta d\\'Oeste'], name='Município')\n",
    "\n",
    "print(ss9.head())\n",
    "\n",
    "# para acessar as funções auxiliares de strings utilize o atributo str da série\n",
    "s9 = ss9.str.replace(r'([\\d]* [-] )(.*)', r'\\2')\n",
    "s9.head()"
   ]
  },
  {
   "cell_type": "code",
   "execution_count": 67,
   "metadata": {},
   "outputs": [
    {
     "data": {
      "text/plain": [
       "0    False\n",
       "1    False\n",
       "2     True\n",
       "3     True\n",
       "4     True\n",
       "Name: Município, dtype: bool"
      ]
     },
     "execution_count": 67,
     "metadata": {},
     "output_type": "execute_result"
    }
   ],
   "source": [
    "s9.str.startswith('Al')"
   ]
  },
  {
   "cell_type": "code",
   "execution_count": 20,
   "metadata": {
    "slideshow": {
     "slide_type": "slide"
    }
   },
   "outputs": [
    {
     "data": {
      "text/plain": [
       "2                  Alecrim\n",
       "3                 Almeirim\n",
       "4    Alta Floresta d'Oeste\n",
       "Name: Município, dtype: object"
      ]
     },
     "execution_count": 20,
     "metadata": {},
     "output_type": "execute_result"
    }
   ],
   "source": [
    "# para acessar as funções auxiliares de strings utilize o atributo str da série\n",
    "s9[ s9.str.startswith('Al') ]"
   ]
  },
  {
   "cell_type": "markdown",
   "metadata": {
    "slideshow": {
     "slide_type": "slide"
    }
   },
   "source": [
    "* podemos aplicar transformações em todas as linhas de uma série utilizando a função apply"
   ]
  },
  {
   "cell_type": "code",
   "execution_count": 69,
   "metadata": {},
   "outputs": [
    {
     "data": {
      "text/plain": [
       "0                   1 - Aceguá\n",
       "1               2 - Acrelândia\n",
       "2                  3 - Alecrim\n",
       "3                 4 - Almeirim\n",
       "4    5 - Alta Floresta d'Oeste\n",
       "Name: Município, dtype: object"
      ]
     },
     "execution_count": 69,
     "metadata": {},
     "output_type": "execute_result"
    }
   ],
   "source": [
    "ss9.head()"
   ]
  },
  {
   "cell_type": "code",
   "execution_count": 70,
   "metadata": {
    "slideshow": {
     "slide_type": "-"
    }
   },
   "outputs": [
    {
     "data": {
      "text/plain": [
       "0                   Aceguá\n",
       "1               Acrelândia\n",
       "2                  Alecrim\n",
       "3                 Almeirim\n",
       "4    Alta Floresta d'Oeste\n",
       "Name: Município, dtype: object"
      ]
     },
     "execution_count": 70,
     "metadata": {},
     "output_type": "execute_result"
    }
   ],
   "source": [
    "ss10 = ss9.apply(lambda v: v.split('-')[1].strip())\n",
    "ss10"
   ]
  },
  {
   "cell_type": "code",
   "execution_count": 74,
   "metadata": {},
   "outputs": [
    {
     "data": {
      "text/plain": [
       "'Almeirim'"
      ]
     },
     "execution_count": 74,
     "metadata": {},
     "output_type": "execute_result"
    }
   ],
   "source": [
    "'4 - Almeirim'.split('-')[1].strip()"
   ]
  },
  {
   "cell_type": "code",
   "execution_count": 75,
   "metadata": {},
   "outputs": [
    {
     "data": {
      "text/plain": [
       "0                   Aceguá\n",
       "1               Acrelândia\n",
       "2                  Alecrim\n",
       "3                 Almeirim\n",
       "4    Alta Floresta d'Oeste\n",
       "Name: Município, dtype: object"
      ]
     },
     "execution_count": 75,
     "metadata": {},
     "output_type": "execute_result"
    }
   ],
   "source": [
    "def quebrar_municipio(v):\n",
    "    return v.split('-')[1].strip()\n",
    "\n",
    "ss10 = ss9.apply(quebrar_municipio)\n",
    "ss10"
   ]
  },
  {
   "cell_type": "markdown",
   "metadata": {
    "slideshow": {
     "slide_type": "slide"
    }
   },
   "source": [
    "* é possível ordenar os valores de uma série com a função sort_values()"
   ]
  },
  {
   "cell_type": "code",
   "execution_count": 81,
   "metadata": {},
   "outputs": [
    {
     "data": {
      "text/plain": [
       "0    False\n",
       "1    False\n",
       "2    False\n",
       "3    False\n",
       "4     True\n",
       "Name: Município, dtype: bool"
      ]
     },
     "execution_count": 81,
     "metadata": {},
     "output_type": "execute_result"
    }
   ],
   "source": [
    "ss10.str.contains('Floresta')"
   ]
  },
  {
   "cell_type": "code",
   "execution_count": 80,
   "metadata": {},
   "outputs": [
    {
     "data": {
      "text/plain": [
       "4    Alta Floresta d'Oeste\n",
       "Name: Município, dtype: object"
      ]
     },
     "execution_count": 80,
     "metadata": {},
     "output_type": "execute_result"
    }
   ],
   "source": [
    "ss10[ ss10.str.contains('Floresta') ]"
   ]
  },
  {
   "cell_type": "code",
   "execution_count": 79,
   "metadata": {
    "scrolled": true,
    "slideshow": {
     "slide_type": "-"
    }
   },
   "outputs": [
    {
     "data": {
      "text/plain": [
       "0    5 - Alta Floresta d'Oeste\n",
       "1                 4 - Almeirim\n",
       "2                  3 - Alecrim\n",
       "3               2 - Acrelândia\n",
       "4                   1 - Aceguá\n",
       "Name: Município, dtype: object"
      ]
     },
     "execution_count": 79,
     "metadata": {},
     "output_type": "execute_result"
    }
   ],
   "source": [
    "ssss = ss9.sort_values(ascending=False)\n",
    "ssss.reset_index(drop=True)"
   ]
  },
  {
   "cell_type": "markdown",
   "metadata": {
    "slideshow": {
     "slide_type": "slide"
    }
   },
   "source": [
    "* é possível realizar a contagem da ocorrência de valores"
   ]
  },
  {
   "cell_type": "code",
   "execution_count": 84,
   "metadata": {
    "slideshow": {
     "slide_type": "-"
    }
   },
   "outputs": [
    {
     "data": {
      "text/plain": [
       "0     17\n",
       "1     18\n",
       "2     24\n",
       "3     27\n",
       "4     18\n",
       "5     25\n",
       "6     27\n",
       "7     35\n",
       "8     35\n",
       "9     18\n",
       "10    17\n",
       "11    13\n",
       "12    36\n",
       "13    32\n",
       "14    31\n",
       "dtype: int64"
      ]
     },
     "execution_count": 84,
     "metadata": {},
     "output_type": "execute_result"
    }
   ],
   "source": [
    "temperaturas = [17, 18, 24, 27, 18, 25, 27, 35, 35, 18, 17, 13, 36, 32, 31]\n",
    "s8 = pd.Series(temperaturas)\n",
    "s8"
   ]
  },
  {
   "cell_type": "code",
   "execution_count": 94,
   "metadata": {
    "slideshow": {
     "slide_type": "-"
    }
   },
   "outputs": [
    {
     "data": {
      "text/plain": [
       "2"
      ]
     },
     "execution_count": 94,
     "metadata": {},
     "output_type": "execute_result"
    }
   ],
   "source": [
    "# como pego o índice pelo valor?\n",
    "s = s8.value_counts().reset_index()\n",
    "s[s['index'] == 35].index[0]"
   ]
  },
  {
   "cell_type": "code",
   "execution_count": null,
   "metadata": {},
   "outputs": [],
   "source": []
  },
  {
   "cell_type": "markdown",
   "metadata": {
    "slideshow": {
     "slide_type": "notes"
    }
   },
   "source": [
    "Documentação do Pandas para a classe Series:\n",
    "https://pandas.pydata.org/pandas-docs/stable/api.html#series"
   ]
  },
  {
   "cell_type": "markdown",
   "metadata": {
    "slideshow": {
     "slide_type": "slide"
    }
   },
   "source": [
    "# Exercício 02\n",
    "\n",
    "Considere as temperaturas contidas na série s_temperaturas definida abaixo:"
   ]
  },
  {
   "cell_type": "code",
   "execution_count": 96,
   "metadata": {
    "slideshow": {
     "slide_type": "-"
    }
   },
   "outputs": [
    {
     "data": {
      "text/plain": [
       "0    33\n",
       "1    23\n",
       "2     9\n",
       "3    37\n",
       "4     2\n",
       "dtype: int32"
      ]
     },
     "execution_count": 96,
     "metadata": {},
     "output_type": "execute_result"
    }
   ],
   "source": [
    "np.random.seed(42)\n",
    "s_temperaturas = pd.Series(np.random.randint(-5, 38, 100))\n",
    "s_temperaturas.head()"
   ]
  },
  {
   "cell_type": "markdown",
   "metadata": {
    "slideshow": {
     "slide_type": "slide"
    }
   },
   "source": [
    "1. Utilize o método apply para transformar de ºC para K e atribua à variável s_temperaturas_k. Imprima as primeiras 3 linhas.<br/>\n",
    "    ```Fórmula: 0 °C + 273,15 = 273,15 K```\n",
    "2. Utilize o método apply para transformar de ºC para F e atribua à variável s_temperaturas_f. Imprima as últimas 5 linhas. <br/>\n",
    "    ```Fórmula: (0 °C × 9/5) + 32 = 32 °F```\n",
    "3. Imprima uma amostra de 10 elementos da variável s_temperaturas.\n",
    "3. Faça a contagem de valores para a série.\n",
    "4. Crie um índice de datas começando em 2017-05-01, de frequência diária, com 100 posições e atribua à série contida na variável s_temperaturas.\n",
    "5. Busque as temperaturas compreendidas entre as datas 2017-06-01 e 2017-06-15.\n",
    "6. Calcule a média de temperatura mensal (Dica: utilize o método resample da série)"
   ]
  },
  {
   "cell_type": "code",
   "execution_count": 100,
   "metadata": {},
   "outputs": [
    {
     "data": {
      "text/plain": [
       "0    306.15\n",
       "1    296.15\n",
       "2    282.15\n",
       "dtype: float64"
      ]
     },
     "execution_count": 100,
     "metadata": {},
     "output_type": "execute_result"
    }
   ],
   "source": [
    "def celcius_kelvin(c):\n",
    "    k = c + 273.15\n",
    "    return k\n",
    "\n",
    "s_temperaturas_k = s_temperaturas.apply(celcius_kelvin)\n",
    "s_temperaturas_k.head(3)"
   ]
  },
  {
   "cell_type": "code",
   "execution_count": 103,
   "metadata": {
    "scrolled": true
   },
   "outputs": [
    {
     "data": {
      "text/plain": [
       "95    30.2\n",
       "96    96.8\n",
       "97    91.4\n",
       "98    95.0\n",
       "99    71.6\n",
       "dtype: float64"
      ]
     },
     "execution_count": 103,
     "metadata": {},
     "output_type": "execute_result"
    }
   ],
   "source": [
    "# (0 °C × 9/5) + 32 = 32 °F\n",
    "s_temperaturas_k = s_temperaturas.apply(lambda x: x * (9/5) + 32)\n",
    "s_temperaturas_k.tail(5)"
   ]
  },
  {
   "cell_type": "code",
   "execution_count": 104,
   "metadata": {},
   "outputs": [
    {
     "data": {
      "text/plain": [
       "15    -3\n",
       "9      5\n",
       "97    33\n",
       "79    23\n",
       "67     9\n",
       "84     3\n",
       "40    19\n",
       "17    -4\n",
       "48     2\n",
       "37    33\n",
       "dtype: int32"
      ]
     },
     "execution_count": 104,
     "metadata": {},
     "output_type": "execute_result"
    }
   ],
   "source": [
    "\"\"\"\n",
    "Imprima uma amostra de 10 elementos da variável s_temperaturas.\n",
    "\"\"\"\n",
    "s_temperaturas.sample(10)"
   ]
  },
  {
   "cell_type": "code",
   "execution_count": 106,
   "metadata": {},
   "outputs": [
    {
     "data": {
      "text/plain": [
       "18    6\n",
       "2     5\n",
       "15    4\n",
       "19    4\n",
       "8     4\n",
       "dtype: int64"
      ]
     },
     "execution_count": 106,
     "metadata": {},
     "output_type": "execute_result"
    }
   ],
   "source": [
    "\"\"\"\n",
    "Faça a contagem de valores para a série.\n",
    "\"\"\"\n",
    "s_temperaturas.value_counts().head()"
   ]
  },
  {
   "cell_type": "code",
   "execution_count": 110,
   "metadata": {},
   "outputs": [
    {
     "data": {
      "text/plain": [
       "2017-05-01    33\n",
       "2017-05-02    23\n",
       "2017-05-03     9\n",
       "2017-05-04    37\n",
       "2017-05-05     2\n",
       "Freq: D, dtype: int32"
      ]
     },
     "execution_count": 110,
     "metadata": {},
     "output_type": "execute_result"
    }
   ],
   "source": [
    "\"\"\"\n",
    "Crie um índice de datas começando em 2017-05-01, \n",
    "de frequência diária, com 100 posições e atribua \n",
    "à série contida na variável s_temperaturas.\n",
    "\"\"\"\n",
    "s_temperaturas_s = s_temperaturas.copy()\n",
    "s_temperaturas_s.index = pd.date_range('2017-05-01', freq='D', periods=100)\n",
    "s_temperaturas_s.head()"
   ]
  },
  {
   "cell_type": "code",
   "execution_count": 113,
   "metadata": {},
   "outputs": [
    {
     "data": {
      "text/plain": [
       "2017-06-01     9\n",
       "2017-06-02    -3\n",
       "2017-06-03    31\n",
       "2017-06-04     1\n",
       "2017-06-05    15\n",
       "2017-06-06     3\n",
       "2017-06-07    33\n",
       "2017-06-08    12\n",
       "2017-06-09    -2\n",
       "2017-06-10    19\n",
       "2017-06-11     8\n",
       "2017-06-12     3\n",
       "2017-06-13    20\n",
       "2017-06-14    -4\n",
       "2017-06-15    14\n",
       "Freq: D, dtype: int32"
      ]
     },
     "execution_count": 113,
     "metadata": {},
     "output_type": "execute_result"
    }
   ],
   "source": [
    "\"\"\"\n",
    "Busque as temperaturas compreendidas entre as datas 2017-06-01 e 2017-06-15.\n",
    "\"\"\"\n",
    "s_temperaturas_s.loc['2017-06-01':'2017-06-15']"
   ]
  },
  {
   "cell_type": "code",
   "execution_count": 116,
   "metadata": {},
   "outputs": [
    {
     "data": {
      "text/plain": [
       "2017-05-31    17.516129\n",
       "2017-06-30    11.966667\n",
       "2017-07-31    13.387097\n",
       "2017-08-31    26.250000\n",
       "Freq: M, dtype: float64"
      ]
     },
     "execution_count": 116,
     "metadata": {},
     "output_type": "execute_result"
    }
   ],
   "source": [
    "\"\"\"\n",
    "Calcule a média de temperatura mensal \n",
    "(Dica: utilize o método resample da série)\n",
    "\"\"\"\n",
    "\n",
    "s_temperaturas_s.resample(rule='M').mean()"
   ]
  },
  {
   "cell_type": "code",
   "execution_count": null,
   "metadata": {},
   "outputs": [],
   "source": []
  },
  {
   "cell_type": "code",
   "execution_count": null,
   "metadata": {},
   "outputs": [],
   "source": []
  },
  {
   "cell_type": "code",
   "execution_count": null,
   "metadata": {},
   "outputs": [],
   "source": []
  },
  {
   "cell_type": "code",
   "execution_count": null,
   "metadata": {},
   "outputs": [],
   "source": []
  },
  {
   "cell_type": "code",
   "execution_count": 25,
   "metadata": {},
   "outputs": [
    {
     "data": {
      "application/javascript": [
       "\n",
       "(function() {var css = [\n",
       "    //\"body {\",\n",
       "    //\"    font-family: serif;\",\n",
       "    //\"}\",\n",
       "    \".container {\",\n",
       "    \"    width: 100%;\",\n",
       "    \"}\",\n",
       "    \".text_cell_render table {\",\n",
       "    \"    font-size: 24;\",\n",
       "    \"}\",\n",
       "    \".rendered_html code {\",\n",
       "    \"    background-color: #fafafa; \",\n",
       "    \"}\",\n",
       "    \".rendered_html :not(pre) > code {\",\n",
       "    \"    padding: 1px 1px;\",\n",
       "    \"}\",\n",
       "    \".rendered_html pre code {\",\n",
       "    \"    background-color: #fafafa;\",\n",
       "    \"}\",\n",
       "    \".rendered_html pre {\",\n",
       "    \"    border: 1px;\",\n",
       "    \"    background-color: #fafafa;\",\n",
       "    \"    padding: .5ex .5em;\",\n",
       "    \"}\"\n",
       "].join(\"\\n\");\n",
       "if (typeof GM_addStyle != \"undefined\") {\n",
       "    GM_addStyle(css);\n",
       "} else if (typeof PRO_addStyle != \"undefined\") {\n",
       "    PRO_addStyle(css);\n",
       "} else if (typeof addStyle != \"undefined\") {\n",
       "    addStyle(css);\n",
       "} else {\n",
       "    var node = document.createElement(\"style\");\n",
       "    node.type = \"text/css\";\n",
       "    node.appendChild(document.createTextNode(css));\n",
       "    var heads = document.getElementsByTagName(\"head\");\n",
       "    if (heads.length > 0) {\n",
       "        heads[0].appendChild(node);\n",
       "    } else {\n",
       "        // no head yet, stick it whereever\n",
       "        document.documentElement.appendChild(node);\n",
       "    }\n",
       "}\n",
       "})();\n"
      ],
      "text/plain": [
       "<IPython.core.display.Javascript object>"
      ]
     },
     "metadata": {},
     "output_type": "display_data"
    }
   ],
   "source": [
    "%%javascript\n",
    "\n",
    "(function() {var css = [\n",
    "    //\"body {\",\n",
    "    //\"    font-family: serif;\",\n",
    "    //\"}\",\n",
    "    \".container {\",\n",
    "    \"    width: 100%;\",\n",
    "    \"}\",\n",
    "    \".text_cell_render table {\",\n",
    "    \"    font-size: 24;\",\n",
    "    \"}\",\n",
    "    \".rendered_html code {\",\n",
    "    \"    background-color: #fafafa; \",\n",
    "    \"}\",\n",
    "    \".rendered_html :not(pre) > code {\",\n",
    "    \"    padding: 1px 1px;\",\n",
    "    \"}\",\n",
    "    \".rendered_html pre code {\",\n",
    "    \"    background-color: #fafafa;\",\n",
    "    \"}\",\n",
    "    \".rendered_html pre {\",\n",
    "    \"    border: 1px;\",\n",
    "    \"    background-color: #fafafa;\",\n",
    "    \"    padding: .5ex .5em;\",\n",
    "    \"}\"\n",
    "].join(\"\\n\");\n",
    "if (typeof GM_addStyle != \"undefined\") {\n",
    "    GM_addStyle(css);\n",
    "} else if (typeof PRO_addStyle != \"undefined\") {\n",
    "    PRO_addStyle(css);\n",
    "} else if (typeof addStyle != \"undefined\") {\n",
    "    addStyle(css);\n",
    "} else {\n",
    "    var node = document.createElement(\"style\");\n",
    "    node.type = \"text/css\";\n",
    "    node.appendChild(document.createTextNode(css));\n",
    "    var heads = document.getElementsByTagName(\"head\");\n",
    "    if (heads.length > 0) {\n",
    "        heads[0].appendChild(node);\n",
    "    } else {\n",
    "        // no head yet, stick it whereever\n",
    "        document.documentElement.appendChild(node);\n",
    "    }\n",
    "}\n",
    "})();"
   ]
  },
  {
   "cell_type": "markdown",
   "metadata": {
    "slideshow": {
     "slide_type": "notes"
    }
   },
   "source": [
    "___\n",
    "__Material produzido para o curso__:\n",
    "* Introdução à Análise de Dados com Python\n",
    "\n",
    "__Autor__:\n",
    "* Fernando Sola Pereira\n",
    "\n",
    "__Revisão__:\n",
    "* 1.1"
   ]
  }
 ],
 "metadata": {
  "hide_input": false,
  "kernelspec": {
   "display_name": "Python 3",
   "language": "python",
   "name": "python3"
  },
  "language_info": {
   "codemirror_mode": {
    "name": "ipython",
    "version": 3
   },
   "file_extension": ".py",
   "mimetype": "text/x-python",
   "name": "python",
   "nbconvert_exporter": "python",
   "pygments_lexer": "ipython3",
   "version": "3.7.3"
  },
  "toc": {
   "base_numbering": 1,
   "nav_menu": {},
   "number_sections": true,
   "sideBar": true,
   "skip_h1_title": false,
   "title_cell": "Table of Contents",
   "title_sidebar": "Contents",
   "toc_cell": false,
   "toc_position": {},
   "toc_section_display": true,
   "toc_window_display": false
  },
  "varInspector": {
   "cols": {
    "lenName": 16,
    "lenType": 16,
    "lenVar": 40
   },
   "kernels_config": {
    "python": {
     "delete_cmd_postfix": "",
     "delete_cmd_prefix": "del ",
     "library": "var_list.py",
     "varRefreshCmd": "print(var_dic_list())"
    },
    "r": {
     "delete_cmd_postfix": ") ",
     "delete_cmd_prefix": "rm(",
     "library": "var_list.r",
     "varRefreshCmd": "cat(var_dic_list()) "
    }
   },
   "types_to_exclude": [
    "module",
    "function",
    "builtin_function_or_method",
    "instance",
    "_Feature"
   ],
   "window_display": false
  }
 },
 "nbformat": 4,
 "nbformat_minor": 2
}
