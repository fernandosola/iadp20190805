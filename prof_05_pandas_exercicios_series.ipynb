{
 "cells": [
  {
   "cell_type": "markdown",
   "metadata": {},
   "source": [
    "# Exercícios Pandas\n",
    "---"
   ]
  },
  {
   "cell_type": "code",
   "execution_count": 4,
   "metadata": {},
   "outputs": [],
   "source": [
    "# faça seus imports aqui \n",
    "import pandas as pd"
   ]
  },
  {
   "cell_type": "markdown",
   "metadata": {},
   "source": [
    "## EX01\n",
    "\n",
    "Criação e métodos de séries."
   ]
  },
  {
   "cell_type": "code",
   "execution_count": 5,
   "metadata": {},
   "outputs": [],
   "source": [
    "temperaturas = [15.4, 18.0, 22.5, 20.0, 20.3, 25.0]"
   ]
  },
  {
   "cell_type": "markdown",
   "metadata": {},
   "source": [
    "__A.__ Crie uma série com os dados da lista fornecida. Utilize pd.Series e atribua a serie à variável s_temperaturas"
   ]
  },
  {
   "cell_type": "code",
   "execution_count": 6,
   "metadata": {},
   "outputs": [
    {
     "data": {
      "text/plain": [
       "0    15.4\n",
       "1    18.0\n",
       "2    22.5\n",
       "3    20.0\n",
       "4    20.3\n",
       "dtype: float64"
      ]
     },
     "execution_count": 6,
     "metadata": {},
     "output_type": "execute_result"
    }
   ],
   "source": [
    "s_temperaturas = pd.Series(temperaturas)\n",
    "s_temperaturas.head()"
   ]
  },
  {
   "cell_type": "markdown",
   "metadata": {},
   "source": [
    "__B.__ Imprima o tipo do objeto s_temperaturas"
   ]
  },
  {
   "cell_type": "code",
   "execution_count": 7,
   "metadata": {},
   "outputs": [
    {
     "data": {
      "text/plain": [
       "pandas.core.series.Series"
      ]
     },
     "execution_count": 7,
     "metadata": {},
     "output_type": "execute_result"
    }
   ],
   "source": [
    "type(s_temperaturas)"
   ]
  },
  {
   "cell_type": "markdown",
   "metadata": {},
   "source": [
    "__C.__ Imprima o objeto s_temperaturas"
   ]
  },
  {
   "cell_type": "code",
   "execution_count": 8,
   "metadata": {},
   "outputs": [
    {
     "data": {
      "text/plain": [
       "0    15.4\n",
       "1    18.0\n",
       "2    22.5\n",
       "3    20.0\n",
       "4    20.3\n",
       "5    25.0\n",
       "dtype: float64"
      ]
     },
     "execution_count": 8,
     "metadata": {},
     "output_type": "execute_result"
    }
   ],
   "source": [
    "s_temperaturas"
   ]
  },
  {
   "cell_type": "markdown",
   "metadata": {},
   "source": [
    "__D.__ Imprima o numéro de linhas do objeto"
   ]
  },
  {
   "cell_type": "code",
   "execution_count": 9,
   "metadata": {},
   "outputs": [
    {
     "data": {
      "text/plain": [
       "6"
      ]
     },
     "execution_count": 9,
     "metadata": {},
     "output_type": "execute_result"
    }
   ],
   "source": [
    "s_temperaturas.shape[0]"
   ]
  },
  {
   "cell_type": "markdown",
   "metadata": {},
   "source": [
    "__E.__ imprima as 2 primeiras linhas"
   ]
  },
  {
   "cell_type": "code",
   "execution_count": 10,
   "metadata": {
    "scrolled": true
   },
   "outputs": [
    {
     "data": {
      "text/plain": [
       "0    15.4\n",
       "1    18.0\n",
       "dtype: float64"
      ]
     },
     "execution_count": 10,
     "metadata": {},
     "output_type": "execute_result"
    }
   ],
   "source": [
    "s_temperaturas.head(2)"
   ]
  },
  {
   "cell_type": "markdown",
   "metadata": {},
   "source": [
    "__F__. imprima as 2 últimas linhas"
   ]
  },
  {
   "cell_type": "code",
   "execution_count": 11,
   "metadata": {},
   "outputs": [
    {
     "data": {
      "text/plain": [
       "4    20.3\n",
       "5    25.0\n",
       "dtype: float64"
      ]
     },
     "execution_count": 11,
     "metadata": {},
     "output_type": "execute_result"
    }
   ],
   "source": [
    "s_temperaturas.tail(2)"
   ]
  },
  {
   "cell_type": "markdown",
   "metadata": {},
   "source": [
    "__G__. imprima o maior valor"
   ]
  },
  {
   "cell_type": "code",
   "execution_count": 12,
   "metadata": {
    "scrolled": true
   },
   "outputs": [
    {
     "data": {
      "text/plain": [
       "25.0"
      ]
     },
     "execution_count": 12,
     "metadata": {},
     "output_type": "execute_result"
    }
   ],
   "source": [
    "s_temperaturas.max()"
   ]
  },
  {
   "cell_type": "markdown",
   "metadata": {},
   "source": [
    "__H__. imprima o menor valor"
   ]
  },
  {
   "cell_type": "code",
   "execution_count": 13,
   "metadata": {},
   "outputs": [
    {
     "data": {
      "text/plain": [
       "15.4"
      ]
     },
     "execution_count": 13,
     "metadata": {},
     "output_type": "execute_result"
    }
   ],
   "source": [
    "s_temperaturas.min()"
   ]
  },
  {
   "cell_type": "markdown",
   "metadata": {},
   "source": [
    "__J__. utilize o método describe para visualizar estatísticas básicas da série"
   ]
  },
  {
   "cell_type": "code",
   "execution_count": 14,
   "metadata": {},
   "outputs": [
    {
     "data": {
      "text/plain": [
       "count     6.0000\n",
       "mean     20.2000\n",
       "std       3.3544\n",
       "min      15.4000\n",
       "25%      18.5000\n",
       "50%      20.1500\n",
       "75%      21.9500\n",
       "max      25.0000\n",
       "dtype: float64"
      ]
     },
     "execution_count": 14,
     "metadata": {},
     "output_type": "execute_result"
    }
   ],
   "source": [
    "s_temperaturas.describe()"
   ]
  },
  {
   "cell_type": "markdown",
   "metadata": {},
   "source": [
    "## EX02\n",
    "\n",
    "Filtros e expressões em séries."
   ]
  },
  {
   "cell_type": "markdown",
   "metadata": {},
   "source": [
    "__A.__ Crie uma série com as variáveis temperatura e indice definidas abaixo"
   ]
  },
  {
   "cell_type": "code",
   "execution_count": 15,
   "metadata": {
    "scrolled": true
   },
   "outputs": [
    {
     "data": {
      "text/plain": [
       "2017-05-03    15.4\n",
       "2017-05-04    18.0\n",
       "2017-05-04    22.5\n",
       "2017-05-05    20.0\n",
       "2017-05-06    20.3\n",
       "dtype: float64"
      ]
     },
     "execution_count": 15,
     "metadata": {},
     "output_type": "execute_result"
    }
   ],
   "source": [
    "temperaturas = [15.4, 18.0, 22.5, 20.0, 20.3, 25.0]\n",
    "indice = pd.to_datetime(['2017-05-03','2017-05-04','2017-05-04','2017-05-05','2017-05-06','2017-05-07'])\n",
    "\n",
    "s_temperaturas = pd.Series(temperaturas, index=indice)\n",
    "s_temperaturas.head()"
   ]
  },
  {
   "cell_type": "markdown",
   "metadata": {},
   "source": [
    "__B.__ Filtre os registros pelo índice 2017-05-04"
   ]
  },
  {
   "cell_type": "code",
   "execution_count": 17,
   "metadata": {
    "scrolled": false
   },
   "outputs": [
    {
     "data": {
      "text/plain": [
       "2017-05-04    18.0\n",
       "2017-05-04    22.5\n",
       "dtype: float64"
      ]
     },
     "execution_count": 17,
     "metadata": {},
     "output_type": "execute_result"
    }
   ],
   "source": [
    "s_temperaturas['2017-05-04']"
   ]
  },
  {
   "cell_type": "markdown",
   "metadata": {},
   "source": [
    "__C.__ Filtre os registros pelo intervalo 2017-05-04 a 2017-05-06"
   ]
  },
  {
   "cell_type": "code",
   "execution_count": 21,
   "metadata": {
    "scrolled": false
   },
   "outputs": [
    {
     "data": {
      "text/plain": [
       "2017-05-04    18.0\n",
       "2017-05-04    22.5\n",
       "2017-05-05    20.0\n",
       "2017-05-06    20.3\n",
       "dtype: float64"
      ]
     },
     "execution_count": 21,
     "metadata": {},
     "output_type": "execute_result"
    }
   ],
   "source": [
    "s_temperaturas.loc['2017-05-04':'2017-05-06']"
   ]
  },
  {
   "cell_type": "markdown",
   "metadata": {},
   "source": [
    "__D.__ Filtre os registros das posições 1 a 3"
   ]
  },
  {
   "cell_type": "code",
   "execution_count": 20,
   "metadata": {
    "scrolled": true
   },
   "outputs": [
    {
     "data": {
      "text/plain": [
       "2017-05-04    18.0\n",
       "2017-05-04    22.5\n",
       "2017-05-05    20.0\n",
       "dtype: float64"
      ]
     },
     "execution_count": 20,
     "metadata": {},
     "output_type": "execute_result"
    }
   ],
   "source": [
    "s_temperaturas.iloc[1:4]"
   ]
  },
  {
   "cell_type": "markdown",
   "metadata": {},
   "source": [
    "__E.__ Filtre os registros com temperatura maior que 20"
   ]
  },
  {
   "cell_type": "code",
   "execution_count": 22,
   "metadata": {
    "scrolled": false
   },
   "outputs": [
    {
     "data": {
      "text/plain": [
       "2017-05-04    22.5\n",
       "2017-05-06    20.3\n",
       "2017-05-07    25.0\n",
       "dtype: float64"
      ]
     },
     "execution_count": 22,
     "metadata": {},
     "output_type": "execute_result"
    }
   ],
   "source": [
    "s_temperaturas[ s_temperaturas > 20 ]"
   ]
  },
  {
   "cell_type": "markdown",
   "metadata": {},
   "source": [
    "## EX03\n",
    "\n",
    "Criação e características de DataFrames."
   ]
  },
  {
   "cell_type": "markdown",
   "metadata": {},
   "source": [
    "__A.__ Crie um dataframe utilizando a lista de tuplas abaixo."
   ]
  },
  {
   "cell_type": "code",
   "execution_count": null,
   "metadata": {
    "scrolled": false
   },
   "outputs": [],
   "source": [
    "# utilize esta variável para o nome das colunas\n",
    "nomes_colunas = ['Espécie', 'Idade', 'Visitas', 'Prioridade']\n",
    "clinica_veterinaria = [\n",
    "    ('Gato', 6.0, 12, 'Sim'),\n",
    "    ('Gato', 3.0, 23, 'Sim'),\n",
    "    ('Cachorro', 10.0, 14, 'Sim'),\n",
    "    ('Ramster', 4.0, 5, 'Não'),\n",
    "    ('Tartaruga', 10.0, 11, 'Sim'),\n",
    "    ('Tartaruga', 3.0, 2, 'Sim'),\n",
    "    ('Gato', 12.0, 3, 'Não'),\n",
    "    ('Ramster', 11.0, 26, 'Não'),\n",
    "    ('Gato', 5.5, 29, 'Não'),\n",
    "    ('Cachorro', 2.0, 28, 'Sim'),\n",
    "    ('Coelho', 5.5, 1, 'Sim'),\n",
    "    ('Tartaruga', 4.0, 21, 'Não'),\n",
    "    ('Ramster', 1.0, 28, 'Sim'),\n",
    "    ('Tartaruga', 3.5, 18, 'Não'),\n",
    "    ('Ramster', 3.0, 20, 'Não'),\n",
    "    ('Gato', 2.0, 16, 'Não'),\n",
    "    ('Tartaruga', 10.5, 29, 'Não'),\n",
    "    ('Cachorro', 10.5, 26, 'Sim'),\n",
    "    ('Coelho', 10.0, 26, 'Sim'),\n",
    "    ('Ramster', 9.5, 2, 'Não')\n",
    "]\n",
    "\n",
    "# crie o dataframe e atribua à variável 'df_clinica_veterinaria'\n",
    "\n",
    "\n",
    "# exiba as primeiras 5 linhas\n"
   ]
  },
  {
   "cell_type": "markdown",
   "metadata": {},
   "source": [
    "__B.__ Crie uma nova coluna com o resultado do número de visitas dividido pela idade. O nome da colunas deve ser \"Visitas/Idade\""
   ]
  },
  {
   "cell_type": "code",
   "execution_count": null,
   "metadata": {},
   "outputs": [],
   "source": []
  },
  {
   "cell_type": "markdown",
   "metadata": {},
   "source": [
    "__C.__ Ordene o Dataframe pela nova coluna \"Visitas/Idade\" em ordem decrescente"
   ]
  },
  {
   "cell_type": "code",
   "execution_count": null,
   "metadata": {},
   "outputs": [],
   "source": []
  },
  {
   "cell_type": "markdown",
   "metadata": {},
   "source": [
    "__D.__ Selecione todos os registros com cachorros"
   ]
  },
  {
   "cell_type": "code",
   "execution_count": null,
   "metadata": {},
   "outputs": [],
   "source": []
  },
  {
   "cell_type": "markdown",
   "metadata": {},
   "source": [
    "__E.__ Selecione todos os registros com gatos com idade acima de 4 anos"
   ]
  },
  {
   "cell_type": "code",
   "execution_count": null,
   "metadata": {
    "scrolled": false
   },
   "outputs": [],
   "source": []
  },
  {
   "cell_type": "markdown",
   "metadata": {},
   "source": [
    "__F.__ Qual o total de visitas registradas na clínica?"
   ]
  },
  {
   "cell_type": "code",
   "execution_count": null,
   "metadata": {},
   "outputs": [],
   "source": []
  },
  {
   "cell_type": "markdown",
   "metadata": {
    "collapsed": true
   },
   "source": [
    "__G.__ Existe algum Ramster com prioridade?"
   ]
  },
  {
   "cell_type": "code",
   "execution_count": null,
   "metadata": {},
   "outputs": [],
   "source": []
  },
  {
   "cell_type": "markdown",
   "metadata": {},
   "source": [
    "__H.__ Qual a maior idade por espécie?"
   ]
  },
  {
   "cell_type": "code",
   "execution_count": null,
   "metadata": {
    "scrolled": false
   },
   "outputs": [],
   "source": []
  },
  {
   "cell_type": "markdown",
   "metadata": {},
   "source": [
    "__I.__ Qual a média de idade por espécie?"
   ]
  },
  {
   "cell_type": "code",
   "execution_count": null,
   "metadata": {
    "scrolled": false
   },
   "outputs": [],
   "source": []
  },
  {
   "cell_type": "code",
   "execution_count": null,
   "metadata": {},
   "outputs": [],
   "source": [
    "# Gerador de clientes para clínica veterinária\n",
    "\n",
    "sorteio_animais = ['Gato', 'Cachorro', 'Coelho', 'Ramster', 'Tartaruga']\n",
    "sorteio_idades = list(np.arange(0.5, 13.0, step=0.5))\n",
    "sorteio_visitas = list(np.arange(1, 30))\n",
    "sorteio_prioridade = ['Sim', 'Não']\n",
    "\n",
    "clinica_veterinaria = [(np.random.choice(sorteio_animais),\n",
    "                        np.random.choice(sorteio_idades),\n",
    "                        np.random.choice(sorteio_visitas),\n",
    "                        np.random.choice(sorteio_prioridade),\n",
    "                        ) for i in range(20)\n",
    "                        ]\n",
    "clinica_veterinaria"
   ]
  },
  {
   "cell_type": "markdown",
   "metadata": {
    "collapsed": true
   },
   "source": [
    "___\n",
    "__Material produzido para o curso__:\n",
    "* Introdução à Análise de Dados com Python\n",
    "\n",
    "__Autor__:\n",
    "* Fernando Sola Pereira\n",
    "\n",
    "__Revisão__:\n",
    "* 1.2"
   ]
  }
 ],
 "metadata": {
  "hide_input": false,
  "kernelspec": {
   "display_name": "Python 3",
   "language": "python",
   "name": "python3"
  },
  "language_info": {
   "codemirror_mode": {
    "name": "ipython",
    "version": 3
   },
   "file_extension": ".py",
   "mimetype": "text/x-python",
   "name": "python",
   "nbconvert_exporter": "python",
   "pygments_lexer": "ipython3",
   "version": "3.7.3"
  },
  "toc": {
   "base_numbering": 1,
   "nav_menu": {},
   "number_sections": true,
   "sideBar": true,
   "skip_h1_title": false,
   "title_cell": "Table of Contents",
   "title_sidebar": "Contents",
   "toc_cell": false,
   "toc_position": {},
   "toc_section_display": true,
   "toc_window_display": false
  },
  "varInspector": {
   "cols": {
    "lenName": 16,
    "lenType": 16,
    "lenVar": 40
   },
   "kernels_config": {
    "python": {
     "delete_cmd_postfix": "",
     "delete_cmd_prefix": "del ",
     "library": "var_list.py",
     "varRefreshCmd": "print(var_dic_list())"
    },
    "r": {
     "delete_cmd_postfix": ") ",
     "delete_cmd_prefix": "rm(",
     "library": "var_list.r",
     "varRefreshCmd": "cat(var_dic_list()) "
    }
   },
   "types_to_exclude": [
    "module",
    "function",
    "builtin_function_or_method",
    "instance",
    "_Feature"
   ],
   "window_display": false
  }
 },
 "nbformat": 4,
 "nbformat_minor": 2
}
