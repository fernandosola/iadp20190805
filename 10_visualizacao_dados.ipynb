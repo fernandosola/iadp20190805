{
 "cells": [
  {
   "cell_type": "markdown",
   "metadata": {},
   "source": [
    "# Visualização de Dados"
   ]
  },
  {
   "cell_type": "code",
   "execution_count": null,
   "metadata": {},
   "outputs": [],
   "source": [
    "import platform\n",
    "import numpy as np\n",
    "import pandas as pd\n",
    "import matplotlib\n",
    "import matplotlib.pyplot as plt\n",
    "import matplotlib.image as mpimg\n",
    "import seaborn as sns\n",
    "\n",
    "from IPython.display import HTML\n",
    "\n",
    "\n",
    "# large = 22; med = 14; small = 12\n",
    "# params = {'axes.titlesize': large,\n",
    "#           'legend.fontsize': med,\n",
    "#           'figure.figsize': (16, 10),\n",
    "#           'axes.labelsize': med,\n",
    "#           'axes.titlesize': med,\n",
    "#           'xtick.labelsize': med,\n",
    "#           'ytick.labelsize': med,\n",
    "#           'figure.titlesize': large}\n",
    "\n",
    "#plt.rcParams.update(params)\n",
    "#plt.style.use('seaborn-whitegrid')\n",
    "#sns.set(style=\"whitegrid\")\n",
    "\n",
    "#%matplotlib inline\n",
    "\n",
    "print('Versões:')\n",
    "print('OS: {}, {}, {}'.format(platform.system(), platform.release(), platform.version()))\n",
    "print('Python: {}'.format(platform.python_version()))\n",
    "print('NumPy: {}'.format(np.__version__))\n",
    "print('Pandas: {}'.format(pd.__version__))\n",
    "print('Matplotlib: {}'.format(matplotlib.__version__))\n",
    "print('Seaborn: {}'.format(sns.__version__))\n",
    "\n",
    "import warnings\n",
    "warnings.filterwarnings(action='ignore')\n",
    "\n",
    "###########################\n",
    "# Dataframes preparados \n",
    "###########################\n",
    "df_tempo = pd.read_csv('dados/clima_brasilia/BrasiliaTRY1962_05.csv', encoding='latin1')\n",
    "df_temp_media_mes = df_tempo[['Mês','TBS {C}','TBU {C}']].groupby('Mês', as_index=False).mean()"
   ]
  },
  {
   "cell_type": "markdown",
   "metadata": {},
   "source": [
    "## Line Plot\n",
    "\n",
    "Referências:\n",
    "\n",
    "1. https://matplotlib.org/api/_as_gen/matplotlib.pyplot.plot.html\n",
    "2. https://pandas.pydata.org/pandas-docs/stable/generated/pandas.DataFrame.plot.html\n",
    "3. https://seaborn.pydata.org/generated/seaborn.lineplot.html\n"
   ]
  },
  {
   "cell_type": "code",
   "execution_count": null,
   "metadata": {},
   "outputs": [],
   "source": [
    "\"\"\"\n",
    "Gráfico de linha simples\n",
    "\"\"\"\n",
    "plt.plot(df_temp_media_mes['Mês'], df_temp_media_mes['TBS {C}'])"
   ]
  },
  {
   "cell_type": "code",
   "execution_count": null,
   "metadata": {},
   "outputs": [],
   "source": [
    "\"\"\"\n",
    "Gráfico de linha com mais de uma série no mesmo gráfico e algumas customizações\n",
    "\"\"\"\n",
    "plt.plot(df_temp_media_mes['Mês'], df_temp_media_mes['TBS {C}'], linestyle='--', marker='.', markersize=12)\n",
    "plt.plot(df_temp_media_mes['Mês'], df_temp_media_mes['TBU {C}'], linestyle='--', marker='.', markersize=12)\n",
    "plt.title('Médias mensais para TBS e TBU')\n",
    "plt.ylabel('Temperatura (ºC)')\n",
    "plt.xlabel('Mês')\n",
    "plt.legend()\n"
   ]
  },
  {
   "cell_type": "code",
   "execution_count": null,
   "metadata": {},
   "outputs": [],
   "source": [
    "\"\"\"\n",
    "Pandas\n",
    "\"\"\"\n",
    "df_temp_media_mes.plot('Mês', ['TBS {C}','TBU {C}'], kind='line', grid=True, \n",
    "                       title='Médias mensais para TBS e TBU', \n",
    "                       linestyle='--', marker='.', markersize=12)\n",
    "plt.ylabel('Temperatura (ºC)')"
   ]
  },
  {
   "cell_type": "markdown",
   "metadata": {},
   "source": [
    "## Scatter Plot"
   ]
  },
  {
   "cell_type": "code",
   "execution_count": null,
   "metadata": {},
   "outputs": [],
   "source": [
    "\"\"\"\n",
    "Exemplo simples de scatter plot\n",
    "\"\"\"\n",
    "plt.scatter(df_tempo['TBS {C}'],df_tempo['U. R. {%}'])"
   ]
  },
  {
   "cell_type": "code",
   "execution_count": null,
   "metadata": {},
   "outputs": [],
   "source": [
    "\"\"\"\n",
    "Exemplo de scatter plot onde os pontos são diferenciados por cor de acordo com alguma coluna.\n",
    "\"\"\"\n",
    "fig = plt.figure(figsize=(16, 15))\n",
    "\n",
    "\n",
    "colors = plt.get_cmap('tab20')\n",
    "\n",
    "for mes in df_tempo['Mês'].drop_duplicates().sort_values(): \n",
    "    df_mes = df_tempo[df_tempo['Mês'] == mes]\n",
    "    ax = plt.scatter(\n",
    "        df_mes['TBS {C}'],df_mes['U. R. {%}'], \n",
    "        alpha=1, s=12, label='{}'.format(mes), c=colors(df_mes['Mês'])\n",
    "    )\n",
    "    \n",
    "plt.xlabel('TBS {C}')\n",
    "plt.ylabel('U. R. {%}')\n",
    "plt.title('Umidade x Temperatura', fontsize=22)\n",
    "plt.legend(title='Meses', fontsize=10)\n",
    "plt.show()"
   ]
  },
  {
   "cell_type": "code",
   "execution_count": null,
   "metadata": {},
   "outputs": [],
   "source": [
    "fig = plt.figure(figsize=(16, 16))\n",
    "colors = plt.get_cmap('tab20')\n",
    "sns.scatterplot('TBS {C}', 'U. R. {%}', \n",
    "                hue='Mês',\n",
    "                data=df_tempo, \n",
    "                palette={c: colors(c) for c in df_tempo['Mês'].drop_duplicates().sort_values()},\n",
    "                alpha=1, s=24, linewidth=0\n",
    "               )"
   ]
  },
  {
   "cell_type": "code",
   "execution_count": null,
   "metadata": {},
   "outputs": [],
   "source": [
    "fig = plt.figure(figsize=(16.5, 7))\n",
    "ax = sns.lmplot(x='TBS {C}', y='U. R. {%}', data=df_tempo, hue='Mês', \n",
    "                col='Mês', col_wrap=4, scatter_kws={'alpha':0.9, 's': 4}, \n",
    "                fit_reg=False)\n",
    "plt.show()"
   ]
  },
  {
   "cell_type": "markdown",
   "metadata": {},
   "source": [
    "# Vamos entender um pouco de matplotlib"
   ]
  },
  {
   "cell_type": "code",
   "execution_count": null,
   "metadata": {},
   "outputs": [],
   "source": [
    "\"\"\"\n",
    "Um plot sempre possui uma figure que pode ser criada explicitamente ou implicitamente\n",
    "\"\"\"\n",
    "fig = plt.figure( figsize=(10,6), dpi=120 )\n",
    "ax = fig.subplots()\n",
    "plt.tight_layout()\n",
    "plt.show()\n",
    "\n",
    "import time\n",
    "time.sleep(4)\n",
    "from IPython.display import clear_output\n",
    "\n",
    "\n",
    "fig = plt.figure( figsize=(10,10), dpi=120 )\n",
    "ax = fig.subplots()\n",
    "plt.imshow(mpimg.imread('imagens/figura.jpg'))\n",
    "plt.tight_layout()\n",
    "clear_output()\n",
    "plt.show()"
   ]
  },
  {
   "cell_type": "code",
   "execution_count": null,
   "metadata": {
    "scrolled": false
   },
   "outputs": [],
   "source": [
    "\"\"\"\n",
    "Um plot sempre possui uma figure que pode ser criada explicitamente ou implicitamente\n",
    "\"\"\"\n",
    "fig = plt.figure( figsize=(10,10), dpi=120 )\n",
    "ax = fig.subplots()\n",
    "#plt.imshow(mpimg.imread('imagens/figura.jpg'))\n",
    "plt.tight_layout()\n",
    "plt.show()\n",
    "\n"
   ]
  },
  {
   "cell_type": "code",
   "execution_count": null,
   "metadata": {},
   "outputs": [],
   "source": []
  },
  {
   "cell_type": "code",
   "execution_count": null,
   "metadata": {},
   "outputs": [],
   "source": [
    "from IPython.core.display import display, HTML, Markdown\n",
    "\n",
    "fig = plt.figure(figsize=(16.5,8))\n",
    "plt.subplot(1,2,1)\n",
    "plt.xticks([]), plt.yticks([])\n",
    "plt.text(0.5,0.5, 'subplot(1,2,1)',ha='center',va='center',size=24,alpha=.5)\n",
    "\n",
    "plt.subplot(1,2,2)\n",
    "plt.xticks([]), plt.yticks([])\n",
    "plt.text(0.5,0.5, 'subplot(1,2,2)',ha='center',va='center',size=24,alpha=.5)\n",
    "plt.tight_layout()\n",
    "#plt.show()\n",
    "\n",
    "display(Markdown('---'))\n",
    "\n",
    "plt.rcParams['figure.figsize'] = (16.5,8)\n",
    "f, (ax1, ax2) = plt.subplots(1,2, sharey=True, sharex=True)\n",
    "ax1.plot(df_temp_media_mes['Mês'], df_temp_media_mes['TBS {C}'])\n",
    "ax2.plot(df_temp_media_mes['Mês'], df_temp_media_mes['TBU {C}'])\n",
    "plt.tight_layout()\n",
    "plt.show()"
   ]
  },
  {
   "cell_type": "markdown",
   "metadata": {},
   "source": [
    "## Anatomia de uma figura"
   ]
  },
  {
   "cell_type": "code",
   "execution_count": null,
   "metadata": {},
   "outputs": [],
   "source": [
    "import numpy as np\n",
    "import matplotlib.pyplot as plt\n",
    "from matplotlib.ticker import AutoMinorLocator, MultipleLocator, FuncFormatter\n",
    "\n",
    "np.random.seed(19680801)\n",
    "\n",
    "X = np.linspace(0.5, 3.5, 100)\n",
    "Y1 = 3+np.cos(X)\n",
    "Y2 = 1+np.cos(1+X/0.75)/2\n",
    "Y3 = np.random.uniform(Y1, Y2, len(X))\n",
    "\n",
    "fig = plt.figure(figsize=(12, 12))\n",
    "ax = fig.add_subplot(1, 1, 1, aspect=1)\n",
    "\n",
    "\n",
    "def minor_tick(x, pos):\n",
    "    if not x % 1.0:\n",
    "        return \"\"\n",
    "    return \"%.2f\" % x\n",
    "\n",
    "\n",
    "ax.xaxis.set_major_locator(MultipleLocator(1.000))\n",
    "ax.xaxis.set_minor_locator(AutoMinorLocator(4))\n",
    "ax.yaxis.set_major_locator(MultipleLocator(1.000))\n",
    "ax.yaxis.set_minor_locator(AutoMinorLocator(4))\n",
    "ax.xaxis.set_minor_formatter(FuncFormatter(minor_tick))\n",
    "\n",
    "ax.set_xlim(0, 4)\n",
    "ax.set_ylim(0, 4)\n",
    "\n",
    "ax.tick_params(which='major', width=1.0)\n",
    "ax.tick_params(which='major', length=10)\n",
    "ax.tick_params(which='minor', width=1.0, labelsize=10)\n",
    "ax.tick_params(which='minor', length=5, labelsize=10, labelcolor='0.25')\n",
    "\n",
    "ax.grid(linestyle=\"--\", linewidth=0.5, color='.25', zorder=-10)\n",
    "\n",
    "ax.plot(X, Y1, c=(0.25, 0.25, 1.00), lw=2, label=\"Blue signal\", zorder=10)\n",
    "ax.plot(X, Y2, c=(1.00, 0.25, 0.25), lw=2, label=\"Red signal\")\n",
    "ax.plot(X, Y3, linewidth=0,\n",
    "        marker='o', markerfacecolor='w', markeredgecolor='k')\n",
    "\n",
    "ax.set_title(\"Anatomy of a figure\", fontsize=20, verticalalignment='bottom')\n",
    "ax.set_xlabel(\"X axis label\")\n",
    "ax.set_ylabel(\"Y axis label\")\n",
    "\n",
    "ax.legend()\n",
    "\n",
    "\n",
    "def circle(x, y, radius=0.15):\n",
    "    from matplotlib.patches import Circle\n",
    "    from matplotlib.patheffects import withStroke\n",
    "    circle = Circle((x, y), radius, clip_on=False, zorder=10, linewidth=1,\n",
    "                    edgecolor='black', facecolor=(0, 0, 0, .0125),\n",
    "                    path_effects=[withStroke(linewidth=5, foreground='w')])\n",
    "    ax.add_artist(circle)\n",
    "\n",
    "\n",
    "def text(x, y, text):\n",
    "    ax.text(x, y, text, backgroundcolor=\"white\",\n",
    "            ha='center', va='top', weight='bold', color='blue')\n",
    "\n",
    "\n",
    "# Minor tick\n",
    "circle(0.50, -0.10)\n",
    "text(0.50, -0.32, \"Minor tick label\")\n",
    "\n",
    "# Major tick\n",
    "circle(-0.03, 4.00)\n",
    "text(0.03, 3.80, \"Major tick\")\n",
    "\n",
    "# Minor tick\n",
    "circle(0.00, 3.50)\n",
    "text(0.00, 3.30, \"Minor tick\")\n",
    "\n",
    "# Major tick label\n",
    "circle(-0.15, 3.00)\n",
    "text(-0.15, 2.80, \"Major tick label\")\n",
    "\n",
    "# X Label\n",
    "circle(1.80, -0.27)\n",
    "text(1.80, -0.45, \"X axis label\")\n",
    "\n",
    "# Y Label\n",
    "circle(-0.27, 1.80)\n",
    "text(-0.27, 1.6, \"Y axis label\")\n",
    "\n",
    "# Title\n",
    "circle(1.60, 4.13)\n",
    "text(1.60, 3.93, \"Title\")\n",
    "\n",
    "# Blue plot\n",
    "circle(1.75, 2.80)\n",
    "text(1.75, 2.60, \"Line\\n(line plot)\")\n",
    "\n",
    "# Red plot\n",
    "circle(1.20, 0.60)\n",
    "text(1.20, 0.40, \"Line\\n(line plot)\")\n",
    "\n",
    "# Scatter plot\n",
    "circle(3.20, 1.75)\n",
    "text(3.20, 1.55, \"Markers\\n(scatter plot)\")\n",
    "\n",
    "# Grid\n",
    "circle(3.00, 3.00)\n",
    "text(3.00, 2.80, \"Grid\")\n",
    "\n",
    "# Legend\n",
    "circle(3.70, 3.80)\n",
    "text(3.70, 3.60, \"Legend\")\n",
    "\n",
    "# Axes\n",
    "circle(0.5, 0.5)\n",
    "text(0.5, 0.3, \"Axes\")\n",
    "\n",
    "# Figure\n",
    "circle(-0.3, 0.65)\n",
    "text(-0.3, 0.45, \"Figure\")\n",
    "\n",
    "color = 'blue'\n",
    "ax.annotate('Spines', xy=(4.0, 0.35), xycoords='data',\n",
    "            xytext=(3.3, 0.5), textcoords='data',\n",
    "            weight='bold', color=color,\n",
    "            arrowprops=dict(arrowstyle='->',\n",
    "                            connectionstyle=\"arc3\",\n",
    "                            color=color))\n",
    "\n",
    "ax.annotate('', xy=(3.15, 0.0), xycoords='data',\n",
    "            xytext=(3.45, 0.45), textcoords='data',\n",
    "            weight='bold', color=color,\n",
    "            arrowprops=dict(arrowstyle='->',\n",
    "                            connectionstyle=\"arc3\",\n",
    "                            color=color))\n",
    "\n",
    "ax.text(4.0, -0.4, \"Made with http://matplotlib.org\",\n",
    "        fontsize=10, ha=\"right\", color='.5')\n",
    "\n",
    "plt.show()\n",
    "\n",
    "# Código retirado de \n",
    "# https://matplotlib.org/examples/showcase/anatomy.html"
   ]
  },
  {
   "cell_type": "markdown",
   "metadata": {},
   "source": [
    "## Tutoriais e Referências\n",
    "\n",
    "1. Matplotlib tutorial, Nicolas P. Rougier<br/>\n",
    "https://www.labri.fr/perso/nrougier/teaching/matplotlib/\n",
    "2. Top 50 matplotlib Visualizations – The Master Plots (with full python code)<br/>\n",
    "https://www.machinelearningplus.com/plots/top-50-matplotlib-visualizations-the-master-plots-python/#10.-Diverging-Bars"
   ]
  }
 ],
 "metadata": {
  "hide_input": false,
  "kernelspec": {
   "display_name": "Python 3",
   "language": "python",
   "name": "python3"
  },
  "language_info": {
   "codemirror_mode": {
    "name": "ipython",
    "version": 3
   },
   "file_extension": ".py",
   "mimetype": "text/x-python",
   "name": "python",
   "nbconvert_exporter": "python",
   "pygments_lexer": "ipython3",
   "version": "3.7.3"
  },
  "toc": {
   "base_numbering": 1,
   "nav_menu": {},
   "number_sections": true,
   "sideBar": true,
   "skip_h1_title": false,
   "title_cell": "Table of Contents",
   "title_sidebar": "Contents",
   "toc_cell": false,
   "toc_position": {},
   "toc_section_display": true,
   "toc_window_display": false
  },
  "varInspector": {
   "cols": {
    "lenName": 16,
    "lenType": 16,
    "lenVar": 40
   },
   "kernels_config": {
    "python": {
     "delete_cmd_postfix": "",
     "delete_cmd_prefix": "del ",
     "library": "var_list.py",
     "varRefreshCmd": "print(var_dic_list())"
    },
    "r": {
     "delete_cmd_postfix": ") ",
     "delete_cmd_prefix": "rm(",
     "library": "var_list.r",
     "varRefreshCmd": "cat(var_dic_list()) "
    }
   },
   "types_to_exclude": [
    "module",
    "function",
    "builtin_function_or_method",
    "instance",
    "_Feature"
   ],
   "window_display": false
  }
 },
 "nbformat": 4,
 "nbformat_minor": 2
}
