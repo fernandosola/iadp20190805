{
 "cells": [
  {
   "cell_type": "markdown",
   "metadata": {
    "colab_type": "text",
    "id": "HDm4_x_SS7vM"
   },
   "source": [
    "# Pandas - DataFrames\n",
    "\n",
    "---"
   ]
  },
  {
   "cell_type": "code",
   "execution_count": 24,
   "metadata": {},
   "outputs": [],
   "source": [
    "import pandas as pd\n",
    "import re\n",
    "import numpy as np"
   ]
  },
  {
   "cell_type": "markdown",
   "metadata": {
    "colab_type": "text",
    "id": "1aDBgkUvgeTL"
   },
   "source": [
    "## EX01\n",
    "\n",
    "* Carregue para um DataFrame a lista de municípios de fronteira do Brasil utilizando o arquivo \"https://github.com/fernandosola/analisedados-python/raw/master/dados/arq_municipios_fronteiricos.tsv\"."
   ]
  },
  {
   "cell_type": "code",
   "execution_count": 25,
   "metadata": {},
   "outputs": [
    {
     "data": {
      "text/html": [
       "<div>\n",
       "<style scoped>\n",
       "    .dataframe tbody tr th:only-of-type {\n",
       "        vertical-align: middle;\n",
       "    }\n",
       "\n",
       "    .dataframe tbody tr th {\n",
       "        vertical-align: top;\n",
       "    }\n",
       "\n",
       "    .dataframe thead th {\n",
       "        text-align: right;\n",
       "    }\n",
       "</style>\n",
       "<table border=\"1\" class=\"dataframe\">\n",
       "  <thead>\n",
       "    <tr style=\"text-align: right;\">\n",
       "      <th></th>\n",
       "      <th>Município</th>\n",
       "      <th>Estado</th>\n",
       "      <th>Área territorial</th>\n",
       "      <th>População (IBGE/2007)</th>\n",
       "      <th>Densidade demográfica (hab/km2)</th>\n",
       "      <th>PIB (IBGE/2005)</th>\n",
       "      <th>PIB per capita (R$)</th>\n",
       "      <th>IDH/2000</th>\n",
       "    </tr>\n",
       "  </thead>\n",
       "  <tbody>\n",
       "    <tr>\n",
       "      <th>0</th>\n",
       "      <td>1 - Aceguá</td>\n",
       "      <td>Rio Grande do Sul</td>\n",
       "      <td>1.550</td>\n",
       "      <td>4.138</td>\n",
       "      <td>2,66</td>\n",
       "      <td>71.638.000</td>\n",
       "      <td>17.266</td>\n",
       "      <td>ni</td>\n",
       "    </tr>\n",
       "    <tr>\n",
       "      <th>1</th>\n",
       "      <td>2 - Acrelândia</td>\n",
       "      <td>Acre</td>\n",
       "      <td>1.575</td>\n",
       "      <td>11.520</td>\n",
       "      <td>7,31</td>\n",
       "      <td>114.350.000</td>\n",
       "      <td>9.986</td>\n",
       "      <td>0,680</td>\n",
       "    </tr>\n",
       "    <tr>\n",
       "      <th>2</th>\n",
       "      <td>3 - Alecrim</td>\n",
       "      <td>Rio Grande do Sul</td>\n",
       "      <td>315.000</td>\n",
       "      <td>7.357</td>\n",
       "      <td>23,35</td>\n",
       "      <td>44.373.000</td>\n",
       "      <td>5.944</td>\n",
       "      <td>0,743</td>\n",
       "    </tr>\n",
       "    <tr>\n",
       "      <th>3</th>\n",
       "      <td>4 - Almeirim</td>\n",
       "      <td>Pará</td>\n",
       "      <td>72.960</td>\n",
       "      <td>30.903</td>\n",
       "      <td>0,42</td>\n",
       "      <td>462.258.000</td>\n",
       "      <td>13.485</td>\n",
       "      <td>0,745</td>\n",
       "    </tr>\n",
       "    <tr>\n",
       "      <th>4</th>\n",
       "      <td>5 - Alta Floresta d'Oeste</td>\n",
       "      <td>Rondônia</td>\n",
       "      <td>7.067</td>\n",
       "      <td>23.857</td>\n",
       "      <td>3,37</td>\n",
       "      <td>186.812.000</td>\n",
       "      <td>6.525</td>\n",
       "      <td>0,715</td>\n",
       "    </tr>\n",
       "  </tbody>\n",
       "</table>\n",
       "</div>"
      ],
      "text/plain": [
       "                   Município             Estado  Área territorial  \\\n",
       "0                 1 - Aceguá  Rio Grande do Sul             1.550   \n",
       "1             2 - Acrelândia               Acre             1.575   \n",
       "2                3 - Alecrim  Rio Grande do Sul           315.000   \n",
       "3               4 - Almeirim               Pará            72.960   \n",
       "4  5 - Alta Floresta d'Oeste           Rondônia             7.067   \n",
       "\n",
       "   População (IBGE/2007) Densidade demográfica (hab/km2) PIB (IBGE/2005)  \\\n",
       "0                  4.138                            2,66      71.638.000   \n",
       "1                 11.520                            7,31     114.350.000   \n",
       "2                  7.357                           23,35      44.373.000   \n",
       "3                 30.903                            0,42     462.258.000   \n",
       "4                 23.857                            3,37     186.812.000   \n",
       "\n",
       "  PIB per capita (R$) IDH/2000  \n",
       "0              17.266       ni  \n",
       "1               9.986    0,680  \n",
       "2               5.944    0,743  \n",
       "3              13.485    0,745  \n",
       "4               6.525    0,715  "
      ]
     },
     "execution_count": 25,
     "metadata": {},
     "output_type": "execute_result"
    }
   ],
   "source": [
    "# Complete o código abaixo para realizar a leitura do arquivo\n",
    "# o arquivo utiliza tabulação como separador\n",
    "# dentro de strings a tabulação é representada como \\t\n",
    "df = pd.read_csv(\n",
    "    \"dados/arq_municipios_fronteiricos.tsv\",\n",
    "    sep='\\t',\n",
    "    encoding='utf8',\n",
    ")\n",
    "\n",
    "\n",
    "# Visualize as 5 primeiras linhas do DataFrame\n",
    "df.head()"
   ]
  },
  {
   "cell_type": "markdown",
   "metadata": {},
   "source": [
    "* Realize um tratamento na coluna Município para remover os números e hífens.\n",
    "    * primeiro crie uma que função recebe uma string com o nome do município, realiza a remoção dos números e hifens e retorna a nova string tratada\n",
    "    * faça os testes com a sua função até que o resultado esteja satisfatório\n",
    "    * passe a sua função como parâmetro para o método apply do DataFrame"
   ]
  },
  {
   "cell_type": "code",
   "execution_count": 26,
   "metadata": {},
   "outputs": [],
   "source": [
    "# função que irá realizar o tratamento para um município\n",
    "def tratar_nome_municipio(nome_municipio):\n",
    "    nome_municipio_tratado = re.sub(r'([\\d]* [–-] )(.*)', r'\\2', nome_municipio)\n",
    "    return nome_municipio_tratado\n",
    "\n",
    "# faça um teste de sua função para verificar se a transformação está correta\n"
   ]
  },
  {
   "cell_type": "code",
   "execution_count": 27,
   "metadata": {},
   "outputs": [],
   "source": [
    "# aplique a função utilizando o método apply\n",
    "\n"
   ]
  },
  {
   "cell_type": "code",
   "execution_count": 28,
   "metadata": {},
   "outputs": [],
   "source": [
    "# exiba todos os dados e verifique se o resultado está correto\n"
   ]
  },
  {
   "cell_type": "code",
   "execution_count": 29,
   "metadata": {},
   "outputs": [],
   "source": [
    "# com todos os municípios devidamente tratados\n",
    "# sobrescreva a coluna Município com os novos valores\n",
    "\n",
    "\n",
    "# exiba as informações\n"
   ]
  },
  {
   "cell_type": "markdown",
   "metadata": {},
   "source": [
    "## EX02\n",
    "\n",
    "Ainda utilizando o DataFrame carregado no exercício anterior, verifique os tipos de dados das colunas do dataframe. Todos os dados numéricos deverão ser transformados para tipos numéricos.\n",
    "\n",
    "* utilize o método info() do DataFrame para saber detalhes dos tipos de dados das colunas\n",
    "* verifique se os números possuem os símbolos de decimal e separadores de milhar compatíveis com a linguagem. Se necessário, fazer as substituições pertinentes."
   ]
  },
  {
   "cell_type": "code",
   "execution_count": 30,
   "metadata": {},
   "outputs": [],
   "source": [
    "# verifique os tipos das colunas do DataFrame: df_muni_front\n"
   ]
  },
  {
   "cell_type": "code",
   "execution_count": 31,
   "metadata": {},
   "outputs": [],
   "source": [
    "# faça a conversão do campo 'Área territorial'\n",
    "def converter_para_float(texto):\n",
    "    try:\n",
    "        if type(texto) == str:\n",
    "            t = texto.replace(' ', '')\n",
    "            t = t.replace('.', '')\n",
    "            t = t.replace(',', '.')\n",
    "            n = float(t)\n",
    "            return n\n",
    "        elif type(texto) == int or type(texto) == float:\n",
    "            return texto\n",
    "    except:\n",
    "        pass\n",
    "    return np.NaN\n",
    "\n",
    "# faça os testes com a sua função\n"
   ]
  },
  {
   "cell_type": "code",
   "execution_count": 32,
   "metadata": {},
   "outputs": [],
   "source": [
    "# substitua a coluna pelos valores convertidos\n",
    "\n",
    "# faça o mesmo para todas as colunas numéricas\n"
   ]
  },
  {
   "cell_type": "code",
   "execution_count": 33,
   "metadata": {},
   "outputs": [],
   "source": [
    "# imprima novamente as informações das colunas e verifique os tipos\n"
   ]
  },
  {
   "cell_type": "code",
   "execution_count": 34,
   "metadata": {},
   "outputs": [],
   "source": [
    "# imprima novamente as primeiras linhas do DataFrame\n"
   ]
  },
  {
   "cell_type": "markdown",
   "metadata": {},
   "source": [
    "## EX03\n",
    "\n"
   ]
  },
  {
   "cell_type": "markdown",
   "metadata": {},
   "source": [
    "Crie uma coluna com a sigla dos estados.\n",
    "\n",
    "* crie um set à partir da coluna Estados. Atribua a uma variável chamada __nomes_estados__."
   ]
  },
  {
   "cell_type": "code",
   "execution_count": 35,
   "metadata": {},
   "outputs": [
    {
     "data": {
      "text/plain": [
       "{'Acre',\n",
       " 'Amapá',\n",
       " 'Amazonas',\n",
       " 'Mato Grosso',\n",
       " 'Mato Grosso do Sul',\n",
       " 'Paraná',\n",
       " 'Pará',\n",
       " 'Rio Grande do Sul',\n",
       " 'Rondônia',\n",
       " 'Roraima',\n",
       " 'Santa Cataria',\n",
       " 'Santa Catarina'}"
      ]
     },
     "execution_count": 35,
     "metadata": {},
     "output_type": "execute_result"
    }
   ],
   "source": [
    "# crie o set e verifique o seu conteúdo\n",
    "nomes_estados = set(df['Estado'])\n",
    "nomes_estados"
   ]
  },
  {
   "cell_type": "markdown",
   "metadata": {
    "collapsed": true
   },
   "source": [
    "Você identificou um problema no nome dos estados?\n",
    "Vamos corrigir no final.\n",
    "\n",
    "* crie um dicionário onde o nome completo do estado é a chave e a sigla é o valor: __dic_nomes_siglas__"
   ]
  },
  {
   "cell_type": "code",
   "execution_count": 36,
   "metadata": {},
   "outputs": [],
   "source": [
    "# crie o dicionário\n",
    "dic_nomes_siglas = {'Acre': 'AC',\n",
    " 'Amapá': 'AP',\n",
    " 'Amazonas': 'AM',\n",
    " 'Mato Grosso': 'MT',\n",
    " 'Mato Grosso do Sul': 'MS',\n",
    " 'Paraná': 'PR',\n",
    " 'Pará': 'PA',\n",
    " 'Rio Grande do Sul': 'RS',\n",
    " 'Rondônia': 'RO',\n",
    " 'Roraima': 'RR',\n",
    " 'Santa Cataria': 'SC',\n",
    " 'Santa Catarina': 'SC',\n",
    "}"
   ]
  },
  {
   "cell_type": "markdown",
   "metadata": {
    "collapsed": true
   },
   "source": [
    "* utilize a função map do DataFrame para criar uma nova coluna de siglas à partir dos nomes dos estados. Passe o dicionário criado para a função map. Atribua a Série criada à variável __coluna_siglas_uf__."
   ]
  },
  {
   "cell_type": "code",
   "execution_count": 37,
   "metadata": {},
   "outputs": [],
   "source": [
    "# faça o mapeamento dos valores e atribua a : coluna_siglas_uf\n",
    "\n",
    "\n",
    "# verifique os 10 primeiros itens criados\n"
   ]
  },
  {
   "cell_type": "code",
   "execution_count": 38,
   "metadata": {},
   "outputs": [],
   "source": [
    "# crie a coluna sigla\n",
    "\n",
    "\n",
    "# verifique as informações do dataframe\n"
   ]
  },
  {
   "cell_type": "code",
   "execution_count": 39,
   "metadata": {},
   "outputs": [],
   "source": [
    "# verifique quantos registros possuem o nome do estado de Santa Catarina escrito errado\n"
   ]
  },
  {
   "cell_type": "code",
   "execution_count": 40,
   "metadata": {},
   "outputs": [],
   "source": [
    "# faça a correção dos registros que possuem o nome do estado de Santa Catarina escrito errado\n"
   ]
  },
  {
   "cell_type": "code",
   "execution_count": 41,
   "metadata": {},
   "outputs": [],
   "source": [
    "# verifique, novamente, quantos registros possuem o nome do estado de Santa Catarina escrito errado\n"
   ]
  },
  {
   "cell_type": "markdown",
   "metadata": {},
   "source": [
    "## EX04\n",
    "\n",
    "Identifique quais municípios possuem 2 ou mais desvios na coluna PIB."
   ]
  },
  {
   "cell_type": "code",
   "execution_count": 42,
   "metadata": {},
   "outputs": [],
   "source": [
    "# normalize a coluna PIB em quantidade de desvios padrão\n"
   ]
  },
  {
   "cell_type": "code",
   "execution_count": 43,
   "metadata": {
    "scrolled": true
   },
   "outputs": [],
   "source": [
    "# quais cidades possuem mais de 2 desvios \n"
   ]
  },
  {
   "cell_type": "markdown",
   "metadata": {},
   "source": [
    "## EX05\n",
    "\n",
    "Perguntas rápidas."
   ]
  },
  {
   "cell_type": "code",
   "execution_count": 44,
   "metadata": {},
   "outputs": [],
   "source": [
    "# quantos registros possuem NaN na coluna IDH/2000?\n"
   ]
  },
  {
   "cell_type": "code",
   "execution_count": 45,
   "metadata": {},
   "outputs": [],
   "source": [
    "# quantas cidades por estado?\n"
   ]
  },
  {
   "cell_type": "code",
   "execution_count": 46,
   "metadata": {
    "scrolled": false
   },
   "outputs": [],
   "source": [
    "# faça a ordenação do DataFrame pelo nome do município\n",
    "# a ordenação está correta?\n",
    "\n",
    "from libs.texto import TratamentoTexto\n"
   ]
  },
  {
   "cell_type": "markdown",
   "metadata": {},
   "source": [
    "___\n",
    "__Material produzido para o curso__:\n",
    "* Introdução à Análise de Dados com Python\n",
    "\n",
    "__Autor__:\n",
    "* Fernando Sola Pereira\n",
    "\n",
    "__Revisão__:\n",
    "* 1.1"
   ]
  }
 ],
 "metadata": {
  "accelerator": "GPU",
  "colab": {
   "collapsed_sections": [],
   "default_view": {},
   "name": "aula_03_01_python_basico.ipynb",
   "private_outputs": true,
   "provenance": [],
   "version": "0.3.2",
   "views": {}
  },
  "hide_input": false,
  "kernelspec": {
   "display_name": "Python 3",
   "language": "python",
   "name": "python3"
  },
  "language_info": {
   "codemirror_mode": {
    "name": "ipython",
    "version": 3
   },
   "file_extension": ".py",
   "mimetype": "text/x-python",
   "name": "python",
   "nbconvert_exporter": "python",
   "pygments_lexer": "ipython3",
   "version": "3.7.3"
  },
  "toc": {
   "base_numbering": 1,
   "nav_menu": {},
   "number_sections": true,
   "sideBar": true,
   "skip_h1_title": false,
   "title_cell": "Table of Contents",
   "title_sidebar": "Contents",
   "toc_cell": false,
   "toc_position": {},
   "toc_section_display": true,
   "toc_window_display": false
  },
  "varInspector": {
   "cols": {
    "lenName": 16,
    "lenType": 16,
    "lenVar": 40
   },
   "kernels_config": {
    "python": {
     "delete_cmd_postfix": "",
     "delete_cmd_prefix": "del ",
     "library": "var_list.py",
     "varRefreshCmd": "print(var_dic_list())"
    },
    "r": {
     "delete_cmd_postfix": ") ",
     "delete_cmd_prefix": "rm(",
     "library": "var_list.r",
     "varRefreshCmd": "cat(var_dic_list()) "
    }
   },
   "types_to_exclude": [
    "module",
    "function",
    "builtin_function_or_method",
    "instance",
    "_Feature"
   ],
   "window_display": false
  }
 },
 "nbformat": 4,
 "nbformat_minor": 2
}
