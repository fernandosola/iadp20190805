{
 "cells": [
  {
   "cell_type": "markdown",
   "metadata": {},
   "source": [
    "# Organização dos Dados"
   ]
  },
  {
   "cell_type": "markdown",
   "metadata": {},
   "source": [
    "# Tidy Data\n",
    "\n",
    "Algumas formas de organização dos dados são melhores para uma pessoa analisar outras são mais interessantes para a análise computacional. Hadley Wickham, no artigo [Tidy Data](http://vita.had.co.nz/papers/tidy-data.html), publicado no Journal of Statistical Software, aborda o assunto de forma simples, exemplificando situações onde os dados precisam ser reorganizados para facilitar sua análise. Wickham afirma que:\n",
    "\n",
    "> \"Tidy Data é uma maneira padrão de mapear o significado de um conjunto de dados para sua estrutura. Um conjunto de dados é bagunçado ou organizado, dependendo de como linhas, colunas e tabelas são combinadas com observações, variáveis e tipos.\"\n",
    "\n",
    "Em sua abordagem, são definidos três pilares que devem reger a organização de um dataset:\n",
    "\n",
    "* cada variável forma uma coluna\n",
    "* cada observação forma uma linha\n",
    "* cada unidade observacional forma uma tabela\n",
    "\n",
    "O artigo descreve, ainda, os cinco problemas mais comuns encontrados nos datasets e quais técnicas utilizar para reorganizar os dados para que os pilares citados acima sejam respeitados."
   ]
  },
  {
   "cell_type": "markdown",
   "metadata": {},
   "source": [
    "# Dívida e PIB por UF\n",
    "\n",
    "## Datasets\n",
    "\n",
    "### Dívida dos Estados por Ano\n",
    "\n",
    "Este conjunto de dados abrange o estoque da dívida dos Governos estaduais e DF, segregado por administração direta e administração indireta custeada pelo Tesouro estadual.\n",
    "\n",
    "#### Arquivos:\n",
    "\n",
    "* dados/de_relatorio_estoque_final.csv\n",
    "* de_metadados_relatorio_estoque_final.pdf\n",
    "\n",
    "#### Origem:\n",
    "\n",
    "http://dados.gov.br/dataset/estoque-da-divida-de-estados-e-do-distrito-federal/resource/f9a981c0-6281-43b2-9238-5270eacd4a77?inner_span=True\n",
    "\n",
    "\n",
    "### PIB dos Estados por Ano\n",
    "\n",
    "PIB Estadual a preços de mercado corrente.\n",
    "\n",
    "#### Arquivos:\n",
    "\n",
    "* dados/de_ipeadata_pib_estados_preco_de_mercado_corrente.csv\n",
    "\n",
    "#### Origem:\n",
    "\n",
    "http://www.ipeadata.gov.br/\n",
    "\n",
    "http://www.ipeadata.gov.br/SelNivelR.aspx?serid=1540855420&module=R"
   ]
  },
  {
   "cell_type": "markdown",
   "metadata": {},
   "source": [
    "# Prática\n",
    "\n",
    "## Exercício 01\n",
    "\n",
    "Realize a leitura de ambos os datasets e aplique os princípios do Tidy Data para criar um único dataset que deverá conter as informações de PIB e Dívida dos estados."
   ]
  },
  {
   "cell_type": "markdown",
   "metadata": {},
   "source": [
    "## Exercício 02\n",
    "\n",
    "Utilize interpolação para completar os valores de PIB faltantes no Dataset."
   ]
  }
 ],
 "metadata": {
  "hide_input": false,
  "kernelspec": {
   "display_name": "Python 3",
   "language": "python",
   "name": "python3"
  },
  "language_info": {
   "codemirror_mode": {
    "name": "ipython",
    "version": 3
   },
   "file_extension": ".py",
   "mimetype": "text/x-python",
   "name": "python",
   "nbconvert_exporter": "python",
   "pygments_lexer": "ipython3",
   "version": "3.7.3"
  },
  "toc": {
   "base_numbering": 1,
   "nav_menu": {},
   "number_sections": true,
   "sideBar": true,
   "skip_h1_title": false,
   "title_cell": "Table of Contents",
   "title_sidebar": "Contents",
   "toc_cell": false,
   "toc_position": {},
   "toc_section_display": true,
   "toc_window_display": false
  },
  "varInspector": {
   "cols": {
    "lenName": 16,
    "lenType": 16,
    "lenVar": 40
   },
   "kernels_config": {
    "python": {
     "delete_cmd_postfix": "",
     "delete_cmd_prefix": "del ",
     "library": "var_list.py",
     "varRefreshCmd": "print(var_dic_list())"
    },
    "r": {
     "delete_cmd_postfix": ") ",
     "delete_cmd_prefix": "rm(",
     "library": "var_list.r",
     "varRefreshCmd": "cat(var_dic_list()) "
    }
   },
   "types_to_exclude": [
    "module",
    "function",
    "builtin_function_or_method",
    "instance",
    "_Feature"
   ],
   "window_display": false
  }
 },
 "nbformat": 4,
 "nbformat_minor": 2
}
